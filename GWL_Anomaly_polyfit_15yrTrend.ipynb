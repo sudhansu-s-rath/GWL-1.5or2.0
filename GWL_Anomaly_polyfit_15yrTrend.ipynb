{
 "cells": [
  {
   "cell_type": "code",
   "execution_count": 33,
   "metadata": {},
   "outputs": [],
   "source": [
    "import pandas as pd\n",
    "import numpy as np\n",
    "from scipy.stats import linregress\n",
    "from datetime import datetime"
   ]
  },
  {
   "cell_type": "code",
   "execution_count": 34,
   "metadata": {},
   "outputs": [
    {
     "data": {
      "application/vnd.microsoft.datawrangler.viewer.v0+json": {
       "columns": [
        {
         "name": "index",
         "rawType": "int64",
         "type": "integer"
        },
        {
         "name": "Year",
         "rawType": "int64",
         "type": "integer"
        },
        {
         "name": "GMST (1850ー1900 baseline °C)",
         "rawType": "float64",
         "type": "float"
        },
        {
         "name": "Anomaly(1850-1900 baseline)",
         "rawType": "float64",
         "type": "float"
        }
       ],
       "conversionMethod": "pd.DataFrame",
       "ref": "7475ac40-1541-4e7b-bfd5-d487115fbb2f",
       "rows": [
        [
         "0",
         "1850",
         "-1.02",
         "-0.18156862745098046"
        ],
        [
         "1",
         "1851",
         "-0.87",
         "-0.031568627450980435"
        ],
        [
         "2",
         "1852",
         "-0.84",
         "-0.0015686274509804088"
        ],
        [
         "3",
         "1853",
         "-0.87",
         "-0.031568627450980435"
        ],
        [
         "4",
         "1854",
         "-0.88",
         "-0.041568627450980444"
        ],
        [
         "5",
         "1855",
         "-0.8",
         "0.038431372549019516"
        ],
        [
         "6",
         "1856",
         "-0.87",
         "-0.031568627450980435"
        ],
        [
         "7",
         "1857",
         "-0.98",
         "-0.14156862745098042"
        ],
        [
         "8",
         "1858",
         "-0.94",
         "-0.10156862745098039"
        ],
        [
         "9",
         "1859",
         "-0.8",
         "0.038431372549019516"
        ],
        [
         "10",
         "1860",
         "-0.82",
         "0.01843137254901961"
        ],
        [
         "11",
         "1861",
         "-0.96",
         "-0.1215686274509804"
        ],
        [
         "12",
         "1862",
         "-1.05",
         "-0.21156862745098048"
        ],
        [
         "13",
         "1863",
         "-0.82",
         "0.01843137254901961"
        ],
        [
         "14",
         "1864",
         "-1.03",
         "-0.19156862745098047"
        ],
        [
         "15",
         "1865",
         "-0.84",
         "-0.0015686274509804088"
        ],
        [
         "16",
         "1866",
         "-0.83",
         "0.0084313725490196"
        ],
        [
         "17",
         "1867",
         "-0.87",
         "-0.031568627450980435"
        ],
        [
         "18",
         "1868",
         "-0.85",
         "-0.011568627450980418"
        ],
        [
         "19",
         "1869",
         "-0.84",
         "-0.0015686274509804088"
        ],
        [
         "20",
         "1870",
         "-0.87",
         "-0.031568627450980435"
        ],
        [
         "21",
         "1871",
         "-0.92",
         "-0.08156862745098048"
        ],
        [
         "22",
         "1872",
         "-0.81",
         "0.028431372549019507"
        ],
        [
         "23",
         "1873",
         "-0.9",
         "-0.06156862745098046"
        ],
        [
         "24",
         "1874",
         "-0.99",
         "-0.15156862745098043"
        ],
        [
         "25",
         "1875",
         "-0.95",
         "-0.1115686274509804"
        ],
        [
         "26",
         "1876",
         "-0.91",
         "-0.07156862745098047"
        ],
        [
         "27",
         "1877",
         "-0.58",
         "0.2584313725490196"
        ],
        [
         "28",
         "1878",
         "-0.5",
         "0.33843137254901956"
        ],
        [
         "29",
         "1879",
         "-0.76",
         "0.07843137254901955"
        ],
        [
         "30",
         "1880",
         "-0.82",
         "0.01843137254901961"
        ],
        [
         "31",
         "1881",
         "-0.73",
         "0.10843137254901958"
        ],
        [
         "32",
         "1882",
         "-0.74",
         "0.09843137254901957"
        ],
        [
         "33",
         "1883",
         "-0.81",
         "0.028431372549019507"
        ],
        [
         "34",
         "1884",
         "-0.93",
         "-0.09156862745098049"
        ],
        [
         "35",
         "1885",
         "-0.89",
         "-0.05156862745098045"
        ],
        [
         "36",
         "1886",
         "-0.86",
         "-0.021568627450980427"
        ],
        [
         "37",
         "1887",
         "-0.93",
         "-0.09156862745098049"
        ],
        [
         "38",
         "1888",
         "-0.83",
         "0.0084313725490196"
        ],
        [
         "39",
         "1889",
         "-0.68",
         "0.1584313725490195"
        ],
        [
         "40",
         "1890",
         "-0.93",
         "-0.09156862745098049"
        ],
        [
         "41",
         "1891",
         "-0.81",
         "0.028431372549019507"
        ],
        [
         "42",
         "1892",
         "-0.93",
         "-0.09156862745098049"
        ],
        [
         "43",
         "1893",
         "-0.95",
         "-0.1115686274509804"
        ],
        [
         "44",
         "1894",
         "-0.85",
         "-0.011568627450980418"
        ],
        [
         "45",
         "1895",
         "-0.8",
         "0.038431372549019516"
        ],
        [
         "46",
         "1896",
         "-0.63",
         "0.20843137254901956"
        ],
        [
         "47",
         "1897",
         "-0.63",
         "0.20843137254901956"
        ],
        [
         "48",
         "1898",
         "-0.8",
         "0.038431372549019516"
        ],
        [
         "49",
         "1899",
         "-0.68",
         "0.1584313725490195"
        ]
       ],
       "shape": {
        "columns": 3,
        "rows": 174
       }
      },
      "text/html": [
       "<div>\n",
       "<style scoped>\n",
       "    .dataframe tbody tr th:only-of-type {\n",
       "        vertical-align: middle;\n",
       "    }\n",
       "\n",
       "    .dataframe tbody tr th {\n",
       "        vertical-align: top;\n",
       "    }\n",
       "\n",
       "    .dataframe thead th {\n",
       "        text-align: right;\n",
       "    }\n",
       "</style>\n",
       "<table border=\"1\" class=\"dataframe\">\n",
       "  <thead>\n",
       "    <tr style=\"text-align: right;\">\n",
       "      <th></th>\n",
       "      <th>Year</th>\n",
       "      <th>GMST (1850ー1900 baseline °C)</th>\n",
       "      <th>Anomaly(1850-1900 baseline)</th>\n",
       "    </tr>\n",
       "  </thead>\n",
       "  <tbody>\n",
       "    <tr>\n",
       "      <th>0</th>\n",
       "      <td>1850</td>\n",
       "      <td>-1.02</td>\n",
       "      <td>-0.181569</td>\n",
       "    </tr>\n",
       "    <tr>\n",
       "      <th>1</th>\n",
       "      <td>1851</td>\n",
       "      <td>-0.87</td>\n",
       "      <td>-0.031569</td>\n",
       "    </tr>\n",
       "    <tr>\n",
       "      <th>2</th>\n",
       "      <td>1852</td>\n",
       "      <td>-0.84</td>\n",
       "      <td>-0.001569</td>\n",
       "    </tr>\n",
       "    <tr>\n",
       "      <th>3</th>\n",
       "      <td>1853</td>\n",
       "      <td>-0.87</td>\n",
       "      <td>-0.031569</td>\n",
       "    </tr>\n",
       "    <tr>\n",
       "      <th>4</th>\n",
       "      <td>1854</td>\n",
       "      <td>-0.88</td>\n",
       "      <td>-0.041569</td>\n",
       "    </tr>\n",
       "    <tr>\n",
       "      <th>...</th>\n",
       "      <td>...</td>\n",
       "      <td>...</td>\n",
       "      <td>...</td>\n",
       "    </tr>\n",
       "    <tr>\n",
       "      <th>169</th>\n",
       "      <td>2019</td>\n",
       "      <td>0.52</td>\n",
       "      <td>1.358431</td>\n",
       "    </tr>\n",
       "    <tr>\n",
       "      <th>170</th>\n",
       "      <td>2020</td>\n",
       "      <td>0.54</td>\n",
       "      <td>1.378431</td>\n",
       "    </tr>\n",
       "    <tr>\n",
       "      <th>171</th>\n",
       "      <td>2021</td>\n",
       "      <td>0.41</td>\n",
       "      <td>1.248431</td>\n",
       "    </tr>\n",
       "    <tr>\n",
       "      <th>172</th>\n",
       "      <td>2022</td>\n",
       "      <td>0.43</td>\n",
       "      <td>1.268431</td>\n",
       "    </tr>\n",
       "    <tr>\n",
       "      <th>173</th>\n",
       "      <td>2023</td>\n",
       "      <td>0.72</td>\n",
       "      <td>1.558431</td>\n",
       "    </tr>\n",
       "  </tbody>\n",
       "</table>\n",
       "<p>174 rows × 3 columns</p>\n",
       "</div>"
      ],
      "text/plain": [
       "     Year  GMST (1850ー1900 baseline °C)  Anomaly(1850-1900 baseline)\n",
       "0    1850                         -1.02                    -0.181569\n",
       "1    1851                         -0.87                    -0.031569\n",
       "2    1852                         -0.84                    -0.001569\n",
       "3    1853                         -0.87                    -0.031569\n",
       "4    1854                         -0.88                    -0.041569\n",
       "..    ...                           ...                          ...\n",
       "169  2019                          0.52                     1.358431\n",
       "170  2020                          0.54                     1.378431\n",
       "171  2021                          0.41                     1.248431\n",
       "172  2022                          0.43                     1.268431\n",
       "173  2023                          0.72                     1.558431\n",
       "\n",
       "[174 rows x 3 columns]"
      ]
     },
     "execution_count": 34,
     "metadata": {},
     "output_type": "execute_result"
    }
   ],
   "source": [
    "# Read the Global Temperature multisource Excel file and the NOAA sheet\n",
    "file_path = '/data/keeling/a/sudhansu/i/GlobalTempChange/GlobalTemprature_MultiSource.xlsx'\n",
    "\n",
    "# Read the data from the Excel file\n",
    "df_noaa = pd.read_excel(file_path, sheet_name='NOAA', usecols=\"A:B\")\n",
    "df_crut = pd.read_excel(file_path, sheet_name='HadCRUT_5.0.2.0', usecols=\"A:B\")\n",
    "df_berkeley = pd.read_excel(file_path, sheet_name='Berkeley-earth-temperature', usecols=\"A:B\")\n",
    "df_NASA = pd.read_excel(file_path, sheet_name='NASA', usecols=\"A:B\")\n",
    "df_DCENT = pd.read_excel(file_path, sheet_name='DCENT', usecols=\"A:B\")\n",
    "\n",
    "\n",
    "# Adjustment = Anerage anomaly 1950-1980\n",
    "df_base_noaa = df_noaa[(df_noaa['Year'] >= 1850) & (df_noaa['Year'] <= 1900)]\n",
    "Adjustment_noaa = df_base_noaa['Anomaly(1901-2000 baseline)'].mean()\n",
    "\n",
    "df_base_crut = df_crut[(df_crut['Time'] >= 1850) & (df_crut['Time'] <= 1900)]\n",
    "Adjustment_crut = df_base_crut['Anomaly (1961-1990 baseline deg C)'].mean()\n",
    "\n",
    "df_base_berkeley = df_berkeley[(df_berkeley['Year'] >= 1850) & (df_berkeley['Year'] <= 1900)]\n",
    "Adjustment_berkeley = df_base_berkeley['Annual_Anomaly(1951-Dec 1980 baseline)'].mean()\n",
    "\n",
    "df_NASA_1880to1900_avg = df_NASA[(df_NASA['Year'] >= 1880) & (df_NASA['Year'] <= 1900)]['Anomaly(1951-1980 baseline)'].mean()\n",
    "Adjustment_NASA = df_NASA_1880to1900_avg - 0.03 # As suggested by Gavin Schmidt and Ken Kunkel to bring NASA data to 1850-1900 baseline\n",
    "\n",
    "df_base_DCENT = df_DCENT[(df_DCENT['Year'] >= 1850) & (df_DCENT['Year'] <= 1900)]\n",
    "Adjustment_DCENT = df_base_DCENT['GMST (1850ー1900 baseline °C)'].mean()\n",
    "\n",
    "\n",
    "# Perfor Adjustment to make all data source at 1850-1900 baseline\n",
    "\n",
    "df_noaa['Anomaly(1850-1900 baseline)'] = df_noaa['Anomaly(1901-2000 baseline)'] - Adjustment_noaa\n",
    "df_crut['Anomaly(1850-1900 baseline)'] = df_crut['Anomaly (1961-1990 baseline deg C)'] - Adjustment_crut\n",
    "df_berkeley['Anomaly(1850-1900 baseline)'] = df_berkeley['Annual_Anomaly(1951-Dec 1980 baseline)'] - Adjustment_berkeley\n",
    "df_NASA['Anomaly(1850-1900 baseline)'] = df_NASA['Anomaly(1951-1980 baseline)'] - Adjustment_NASA\n",
    "df_DCENT['Anomaly(1850-1900 baseline)'] = df_DCENT['GMST (1850ー1900 baseline °C)'] - Adjustment_DCENT\n",
    "\n",
    "df_DCENT"
   ]
  },
  {
   "cell_type": "code",
   "execution_count": 11,
   "metadata": {},
   "outputs": [
    {
     "data": {
      "application/vnd.microsoft.datawrangler.viewer.v0+json": {
       "columns": [
        {
         "name": "index",
         "rawType": "int64",
         "type": "integer"
        },
        {
         "name": "Year",
         "rawType": "int64",
         "type": "integer"
        },
        {
         "name": "Anomaly(1901-2000 baseline)",
         "rawType": "float64",
         "type": "float"
        },
        {
         "name": "Anomaly(1850-1900 baseline)",
         "rawType": "float64",
         "type": "float"
        },
        {
         "name": "11yr_centered_avg",
         "rawType": "float64",
         "type": "float"
        },
        {
         "name": "21yr_centered_avg",
         "rawType": "float64",
         "type": "float"
        },
        {
         "name": "31yr_centered_avg",
         "rawType": "float64",
         "type": "float"
        }
       ],
       "conversionMethod": "pd.DataFrame",
       "ref": "68aa7e83-05df-422a-82f3-a8834c29cda4",
       "rows": [
        [
         "0",
         "1850",
         "-0.2",
         "-0.026274509803921597",
         null,
         null,
         null
        ],
        [
         "1",
         "1851",
         "-0.09",
         "0.08372549019607842",
         null,
         null,
         null
        ],
        [
         "2",
         "1852",
         "-0.05",
         "0.12372549019607841",
         null,
         null,
         null
        ],
        [
         "3",
         "1853",
         "-0.11",
         "0.06372549019607841",
         null,
         null,
         null
        ],
        [
         "4",
         "1854",
         "-0.07",
         "0.10372549019607841",
         null,
         null,
         null
        ],
        [
         "5",
         "1855",
         "-0.08",
         "0.09372549019607841",
         "0.04554367201426023",
         null,
         null
        ],
        [
         "6",
         "1856",
         "-0.15",
         "0.02372549019607842",
         "0.03827094474153296",
         null,
         null
        ],
        [
         "7",
         "1857",
         "-0.2",
         "-0.026274509803921597",
         "0.014634581105169324",
         null,
         null
        ],
        [
         "8",
         "1858",
         "-0.18",
         "-0.00627450980392158",
         "8.912655971477576e-05",
         null,
         null
        ],
        [
         "9",
         "1859",
         "-0.05",
         "0.12372549019607841",
         "-0.009001782531194314",
         null,
         null
        ],
        [
         "10",
         "1860",
         "-0.23",
         "-0.056274509803921596",
         "-0.010819964349376132",
         "0.018487394957983176",
         null
        ],
        [
         "11",
         "1861",
         "-0.28",
         "-0.10627450980392161",
         "-0.01354723707664886",
         "0.0199159663865546",
         null
        ],
        [
         "12",
         "1862",
         "-0.35",
         "-0.17627450980392156",
         "-0.018092691622103405",
         "0.014677871148459365",
         null
        ],
        [
         "13",
         "1863",
         "-0.21",
         "-0.03627450980392158",
         "-0.01354723707664886",
         "0.007058823529411747",
         null
        ],
        [
         "14",
         "1864",
         "-0.21",
         "-0.03627450980392158",
         "-0.0035472370766488587",
         "0.0008683473389355557",
         null
        ],
        [
         "15",
         "1865",
         "-0.09",
         "0.08372549019607842",
         "-0.015365418894830679",
         "-0.0062745098039215874",
         "0.024048070841239704"
        ],
        [
         "16",
         "1866",
         "-0.11",
         "0.06372549019607841",
         "-0.009910873440285224",
         "-0.014369747899159683",
         "0.027273877292852605"
        ],
        [
         "17",
         "1867",
         "-0.2",
         "-0.026274509803921597",
         "-0.002638146167557949",
         "-0.0019887955182073033",
         "0.025015812776723576"
        ],
        [
         "18",
         "1868",
         "-0.15",
         "0.02372549019607842",
         "0.010089126559714777",
         "0.013249299719887935",
         "0.020499683744465508"
        ],
        [
         "19",
         "1869",
         "-0.07",
         "0.10372549019607841",
         "0.007361853832442048",
         "0.015154061624649839",
         "0.01437065148640099"
        ],
        [
         "20",
         "1870",
         "-0.18",
         "-0.00627450980392158",
         "0.0064527629233511385",
         "0.008963585434173648",
         "0.0072738772928526065"
        ],
        [
         "21",
         "1871",
         "-0.17",
         "0.0037254901960784015",
         "-0.008092691622103408",
         "0.015154061624649839",
         "0.0004996837444655106"
        ],
        [
         "22",
         "1872",
         "-0.2",
         "-0.026274509803921597",
         "0.011907308377896593",
         "0.020868347338935556",
         "-0.005629348513599007"
        ],
        [
         "23",
         "1873",
         "-0.21",
         "-0.03627450980392158",
         "0.040998217468805685",
         "0.028487394957983168",
         "-0.002726122707147394"
        ],
        [
         "24",
         "1874",
         "-0.24",
         "-0.06627450980392158",
         "0.041907308377896586",
         "0.02420168067226889",
         "0.0014674256799493799"
        ],
        [
         "25",
         "1875",
         "-0.22",
         "-0.04627450980392159",
         "0.03190730837789659",
         "0.02039215686274508",
         "-0.00788741302972804"
        ],
        [
         "26",
         "1876",
         "-0.25",
         "-0.07627450980392159",
         "0.03918003565062386",
         "0.010868347338935557",
         "-0.00788741302972804"
        ],
        [
         "27",
         "1877",
         "0.11",
         "0.2837254901960784",
         "0.04008912655971478",
         "-8.403361344539688e-05",
         "-0.007242251739405459"
        ],
        [
         "28",
         "1878",
         "0.12",
         "0.2937254901960784",
         "0.040998217468805685",
         "0.004201680672268888",
         "-0.006597090449082879"
        ],
        [
         "29",
         "1879",
         "-0.14",
         "0.0337254901960784",
         "0.0328163992869875",
         "0.008963585434173652",
         "-0.010468058191018363"
        ],
        [
         "30",
         "1880",
         "-0.18",
         "-0.00627450980392158",
         "0.028270944741532956",
         "-0.003893557422969207",
         "-0.010790638836179655"
        ],
        [
         "31",
         "1881",
         "-0.1",
         "0.07372549019607841",
         "0.021907308377896596",
         "-0.006274509803921589",
         "-0.011435800126502235"
        ],
        [
         "32",
         "1882",
         "-0.16",
         "0.01372549019607841",
         "0.013725490196078412",
         "-0.010560224089635875",
         "-0.010790638836179655"
        ],
        [
         "33",
         "1883",
         "-0.19",
         "-0.01627450980392159",
         "-0.006274509803921586",
         "-0.016750700280112066",
         "-0.012726122707147397"
        ],
        [
         "34",
         "1884",
         "-0.3",
         "-0.12627450980392158",
         "-0.021729055258467037",
         "-0.02246498599439778",
         "-0.013048703352308686"
        ],
        [
         "35",
         "1885",
         "-0.29",
         "-0.11627450980392157",
         "-0.03991087344028522",
         "-0.021512605042016828",
         "-0.012726122707147396"
        ],
        [
         "36",
         "1886",
         "-0.29",
         "-0.11627450980392157",
         "-0.04445632798573977",
         "-0.016274509803921592",
         "-0.010468058191018363"
        ],
        [
         "37",
         "1887",
         "-0.34",
         "-0.1662745098039216",
         "-0.05900178253119432",
         "-0.008655462184873971",
         "-0.012080961416824815"
        ],
        [
         "38",
         "1888",
         "-0.11",
         "0.06372549019607841",
         "-0.07445632798573977",
         "-0.02627450980392159",
         "-0.017242251739405457"
        ],
        [
         "39",
         "1889",
         "-0.05",
         "0.12372549019607841",
         "-0.08718360071301251",
         "-0.039607843137254926",
         "-0.024339025932953846"
        ],
        [
         "40",
         "1890",
         "-0.34",
         "-0.1662745098039216",
         "-0.07991087344028523",
         "-0.03579831932773111",
         "-0.024984187223276427"
        ],
        [
         "41",
         "1891",
         "-0.23",
         "-0.056274509803921596",
         "-0.06354723707664886",
         "-0.032464985994397774",
         "-0.023371283997469978"
        ],
        [
         "42",
         "1892",
         "-0.26",
         "-0.0862745098039216",
         "-0.045365418894830686",
         "-0.038179271708683495",
         "-0.02659709044908288"
        ],
        [
         "43",
         "1893",
         "-0.33",
         "-0.1562745098039216",
         "-0.03809269162210341",
         "-0.04770308123249302",
         "-0.04369386464263127"
        ],
        [
         "44",
         "1894",
         "-0.33",
         "-0.1562745098039216",
         "-0.042638146167557955",
         "-0.059131652661064446",
         "-0.06143580012650224"
        ],
        [
         "45",
         "1895",
         "-0.22",
         "-0.04627450980392159",
         "-0.04354723707664886",
         "-0.05722689075630254",
         "-0.06885515496521191"
        ],
        [
         "46",
         "1896",
         "-0.11",
         "0.06372549019607841",
         "-0.022638146167557955",
         "-0.05151260504201683",
         "-0.0759519291587603"
        ],
        [
         "47",
         "1897",
         "-0.09",
         "0.08372549019607842",
         "-0.021729055258467043",
         "-0.05436974789915968",
         "-0.08337128399746997"
        ],
        [
         "48",
         "1898",
         "-0.26",
         "-0.0862745098039216",
         "-0.03081996434937613",
         "-0.05817927170868349",
         "-0.08853257432005061"
        ],
        [
         "49",
         "1899",
         "-0.16",
         "0.01372549019607841",
         "-0.03991087344028522",
         "-0.07341736694677874",
         "-0.08691967109424417"
        ]
       ],
       "shape": {
        "columns": 6,
        "rows": 251
       }
      },
      "text/html": [
       "<div>\n",
       "<style scoped>\n",
       "    .dataframe tbody tr th:only-of-type {\n",
       "        vertical-align: middle;\n",
       "    }\n",
       "\n",
       "    .dataframe tbody tr th {\n",
       "        vertical-align: top;\n",
       "    }\n",
       "\n",
       "    .dataframe thead th {\n",
       "        text-align: right;\n",
       "    }\n",
       "</style>\n",
       "<table border=\"1\" class=\"dataframe\">\n",
       "  <thead>\n",
       "    <tr style=\"text-align: right;\">\n",
       "      <th></th>\n",
       "      <th>Year</th>\n",
       "      <th>Anomaly(1901-2000 baseline)</th>\n",
       "      <th>Anomaly(1850-1900 baseline)</th>\n",
       "      <th>11yr_centered_avg</th>\n",
       "      <th>21yr_centered_avg</th>\n",
       "      <th>31yr_centered_avg</th>\n",
       "    </tr>\n",
       "  </thead>\n",
       "  <tbody>\n",
       "    <tr>\n",
       "      <th>0</th>\n",
       "      <td>1850</td>\n",
       "      <td>-0.20</td>\n",
       "      <td>-0.026275</td>\n",
       "      <td>NaN</td>\n",
       "      <td>NaN</td>\n",
       "      <td>NaN</td>\n",
       "    </tr>\n",
       "    <tr>\n",
       "      <th>1</th>\n",
       "      <td>1851</td>\n",
       "      <td>-0.09</td>\n",
       "      <td>0.083725</td>\n",
       "      <td>NaN</td>\n",
       "      <td>NaN</td>\n",
       "      <td>NaN</td>\n",
       "    </tr>\n",
       "    <tr>\n",
       "      <th>2</th>\n",
       "      <td>1852</td>\n",
       "      <td>-0.05</td>\n",
       "      <td>0.123725</td>\n",
       "      <td>NaN</td>\n",
       "      <td>NaN</td>\n",
       "      <td>NaN</td>\n",
       "    </tr>\n",
       "    <tr>\n",
       "      <th>3</th>\n",
       "      <td>1853</td>\n",
       "      <td>-0.11</td>\n",
       "      <td>0.063725</td>\n",
       "      <td>NaN</td>\n",
       "      <td>NaN</td>\n",
       "      <td>NaN</td>\n",
       "    </tr>\n",
       "    <tr>\n",
       "      <th>4</th>\n",
       "      <td>1854</td>\n",
       "      <td>-0.07</td>\n",
       "      <td>0.103725</td>\n",
       "      <td>NaN</td>\n",
       "      <td>NaN</td>\n",
       "      <td>NaN</td>\n",
       "    </tr>\n",
       "    <tr>\n",
       "      <th>...</th>\n",
       "      <td>...</td>\n",
       "      <td>...</td>\n",
       "      <td>...</td>\n",
       "      <td>...</td>\n",
       "      <td>...</td>\n",
       "      <td>...</td>\n",
       "    </tr>\n",
       "    <tr>\n",
       "      <th>246</th>\n",
       "      <td>2096</td>\n",
       "      <td>NaN</td>\n",
       "      <td>7.446184</td>\n",
       "      <td>NaN</td>\n",
       "      <td>NaN</td>\n",
       "      <td>NaN</td>\n",
       "    </tr>\n",
       "    <tr>\n",
       "      <th>247</th>\n",
       "      <td>2097</td>\n",
       "      <td>NaN</td>\n",
       "      <td>7.573521</td>\n",
       "      <td>NaN</td>\n",
       "      <td>NaN</td>\n",
       "      <td>NaN</td>\n",
       "    </tr>\n",
       "    <tr>\n",
       "      <th>248</th>\n",
       "      <td>2098</td>\n",
       "      <td>NaN</td>\n",
       "      <td>7.702021</td>\n",
       "      <td>NaN</td>\n",
       "      <td>NaN</td>\n",
       "      <td>NaN</td>\n",
       "    </tr>\n",
       "    <tr>\n",
       "      <th>249</th>\n",
       "      <td>2099</td>\n",
       "      <td>NaN</td>\n",
       "      <td>7.831682</td>\n",
       "      <td>NaN</td>\n",
       "      <td>NaN</td>\n",
       "      <td>NaN</td>\n",
       "    </tr>\n",
       "    <tr>\n",
       "      <th>250</th>\n",
       "      <td>2100</td>\n",
       "      <td>NaN</td>\n",
       "      <td>7.962505</td>\n",
       "      <td>NaN</td>\n",
       "      <td>NaN</td>\n",
       "      <td>NaN</td>\n",
       "    </tr>\n",
       "  </tbody>\n",
       "</table>\n",
       "<p>251 rows × 6 columns</p>\n",
       "</div>"
      ],
      "text/plain": [
       "     Year  Anomaly(1901-2000 baseline)  Anomaly(1850-1900 baseline)  \\\n",
       "0    1850                        -0.20                    -0.026275   \n",
       "1    1851                        -0.09                     0.083725   \n",
       "2    1852                        -0.05                     0.123725   \n",
       "3    1853                        -0.11                     0.063725   \n",
       "4    1854                        -0.07                     0.103725   \n",
       "..    ...                          ...                          ...   \n",
       "246  2096                          NaN                     7.446184   \n",
       "247  2097                          NaN                     7.573521   \n",
       "248  2098                          NaN                     7.702021   \n",
       "249  2099                          NaN                     7.831682   \n",
       "250  2100                          NaN                     7.962505   \n",
       "\n",
       "     11yr_centered_avg  21yr_centered_avg  31yr_centered_avg  \n",
       "0                  NaN                NaN                NaN  \n",
       "1                  NaN                NaN                NaN  \n",
       "2                  NaN                NaN                NaN  \n",
       "3                  NaN                NaN                NaN  \n",
       "4                  NaN                NaN                NaN  \n",
       "..                 ...                ...                ...  \n",
       "246                NaN                NaN                NaN  \n",
       "247                NaN                NaN                NaN  \n",
       "248                NaN                NaN                NaN  \n",
       "249                NaN                NaN                NaN  \n",
       "250                NaN                NaN                NaN  \n",
       "\n",
       "[251 rows x 6 columns]"
      ]
     },
     "execution_count": 11,
     "metadata": {},
     "output_type": "execute_result"
    }
   ],
   "source": [
    "# Initialize lists to store the coefficients for the quadratic regression\n",
    "coefficients_noaa = []\n",
    "window_size = 15\n",
    "index0_year = 1849\n",
    "# Loop through the dataframe starting from 1994\n",
    "for start_year in range(1995, df_noaa['Year'].max() - window_size + 2):\n",
    "    end_year = start_year + window_size - 1\n",
    "    df_window_noaa = df_noaa[(df_noaa['Year'] >= start_year) & (df_noaa['Year'] <= end_year)]\n",
    "    # Perform quadratic regression\n",
    "    coeffs = np.polyfit(df_window_noaa.index + 1, df_window_noaa['Anomaly(1850-1900 baseline)'], 2)\n",
    "    \n",
    "    # Append the results to the list\n",
    "    coefficients_noaa.append(coeffs)\n",
    "\n",
    "# Create a new dataframe to store the results\n",
    "df_quadratic_regression_noaa = pd.DataFrame({\n",
    "    'Start Year': range(1995, df_noaa['Year'].max() - window_size + 2),\n",
    "    'End Year': range(1995 + window_size - 1, df_noaa['Year'].max() + 1),\n",
    "    'a': [coeff[0] for coeff in coefficients_noaa],\n",
    "    'b': [coeff[1] for coeff in coefficients_noaa],\n",
    "    'c': [coeff[2] for coeff in coefficients_noaa]\n",
    "})\n",
    "\n",
    "# Extract the coefficients for the year 2023\n",
    "coeffs_2024_noaa = df_quadratic_regression_noaa[df_quadratic_regression_noaa['End Year'] == 2024].iloc[0]\n",
    "a_2024_noaa = coeffs_2024_noaa['a']\n",
    "b_2024_noaa = coeffs_2024_noaa['b']\n",
    "c_2024_noaa = coeffs_2024_noaa['c']\n",
    "\n",
    "# Compute the anomaly values for the years 2024 to 2100 using the quadratic trend\n",
    "new_anomalies_noaa = []\n",
    "for year in range(2025, 2101):\n",
    "    anomaly = a_2024_noaa * (year - index0_year)**2 + b_2024_noaa * (year - index0_year) + c_2024_noaa\n",
    "    new_anomalies_noaa.append({'Year': year, 'Anomaly(1850-1900 baseline)': anomaly})\n",
    "\n",
    "# Convert the list to a DataFrame\n",
    "df_new_anomalies_noaa = pd.DataFrame(new_anomalies_noaa)\n",
    "\n",
    "# Append the new anomaly values to the existing df_noaa DataFrame\n",
    "df_noaa = pd.concat([df_noaa, df_new_anomalies_noaa], ignore_index=True)\n",
    "\n",
    "# Compute the 11-year centered average\n",
    "df_noaa['11yr_centered_avg'] = df_noaa['Anomaly(1850-1900 baseline)'].rolling(window=11, center=True).mean()\n",
    "\n",
    "# Compute the 21-year centered average\n",
    "df_noaa['21yr_centered_avg'] = df_noaa['Anomaly(1850-1900 baseline)'].rolling(window=21, center=True).mean()\n",
    "\n",
    "# Compute the 31-year centered average starting at 2010 onwards for df_noaa\n",
    "df_noaa['31yr_centered_avg'] = df_noaa['Anomaly(1850-1900 baseline)'].rolling(window=31, center=True).mean()\n",
    "\n",
    "# Display the updated DataFrame\n",
    "df_noaa"
   ]
  },
  {
   "cell_type": "code",
   "execution_count": 17,
   "metadata": {},
   "outputs": [
    {
     "data": {
      "application/vnd.microsoft.datawrangler.viewer.v0+json": {
       "columns": [
        {
         "name": "index",
         "rawType": "int64",
         "type": "integer"
        },
        {
         "name": "Start Year",
         "rawType": "int64",
         "type": "integer"
        },
        {
         "name": "End Year",
         "rawType": "int64",
         "type": "integer"
        },
        {
         "name": "a",
         "rawType": "float64",
         "type": "float"
        },
        {
         "name": "b",
         "rawType": "float64",
         "type": "float"
        },
        {
         "name": "c",
         "rawType": "float64",
         "type": "float"
        }
       ],
       "conversionMethod": "pd.DataFrame",
       "ref": "8a8e6e37-b158-472c-9d65-89b8404a9d56",
       "rows": [
        [
         "0",
         "1995",
         "2009",
         "-0.000754686489980837",
         "0.24771978021985078",
         "-19.489524025000048"
        ],
        [
         "1",
         "1996",
         "2010",
         "-0.0008403361344533193",
         "0.27796638655447997",
         "-22.11333333332247"
        ],
        [
         "2",
         "1997",
         "2011",
         "-0.0006367162249516905",
         "0.2112391725921675",
         "-16.666686920926427"
        ],
        [
         "3",
         "1998",
         "2012",
         "-0.000894473173881684",
         "0.291682773108226",
         "-22.940191122523377"
        ],
        [
         "4",
         "1999",
         "2013",
         "-0.0023327407886229953",
         "0.7477306076276187",
         "-59.069374380517544"
        ],
        [
         "5",
         "2000",
         "2014",
         "-0.001111829347123549",
         "0.36476664511961193",
         "-29.052275802630696"
        ],
        [
         "6",
         "2001",
         "2015",
         "0.0016176470588253457",
         "-0.500054621849319",
         "39.421145658309534"
        ],
        [
         "7",
         "2002",
         "2016",
         "0.0036150614091794084",
         "-1.1366053652231274",
         "90.11419737126562"
        ],
        [
         "8",
         "2003",
         "2017",
         "0.0035027472527467624",
         "-1.1037774725273122",
         "87.73980241325987"
        ],
        [
         "9",
         "2004",
         "2018",
         "0.002314964447317523",
         "-0.7246556237880208",
         "57.50479691877115"
        ],
        [
         "10",
         "2005",
         "2019",
         "0.0025888817065284077",
         "-0.8174040077568309",
         "65.34025490195103"
        ],
        [
         "11",
         "2006",
         "2020",
         "0.0014867485455716716",
         "-0.4566535229475108",
         "35.83222839904151"
        ],
        [
         "12",
         "2007",
         "2021",
         "-0.0008047834518421469",
         "0.2950071105364802",
         "-25.781195647486324"
        ],
        [
         "13",
         "2008",
         "2022",
         "-0.0025040400775696906",
         "0.8589484486102807",
         "-72.55164652015216"
        ],
        [
         "14",
         "2009",
         "2023",
         "-0.0006666127989668144",
         "0.25197010342634474",
         "-22.44767399270398"
        ],
        [
         "15",
         "2010",
         "2024",
         "0.0005809631544927411",
         "-0.16023933419527495",
         "11.581318250381964"
        ]
       ],
       "shape": {
        "columns": 5,
        "rows": 16
       }
      },
      "text/html": [
       "<div>\n",
       "<style scoped>\n",
       "    .dataframe tbody tr th:only-of-type {\n",
       "        vertical-align: middle;\n",
       "    }\n",
       "\n",
       "    .dataframe tbody tr th {\n",
       "        vertical-align: top;\n",
       "    }\n",
       "\n",
       "    .dataframe thead th {\n",
       "        text-align: right;\n",
       "    }\n",
       "</style>\n",
       "<table border=\"1\" class=\"dataframe\">\n",
       "  <thead>\n",
       "    <tr style=\"text-align: right;\">\n",
       "      <th></th>\n",
       "      <th>Start Year</th>\n",
       "      <th>End Year</th>\n",
       "      <th>a</th>\n",
       "      <th>b</th>\n",
       "      <th>c</th>\n",
       "    </tr>\n",
       "  </thead>\n",
       "  <tbody>\n",
       "    <tr>\n",
       "      <th>0</th>\n",
       "      <td>1995</td>\n",
       "      <td>2009</td>\n",
       "      <td>-0.000755</td>\n",
       "      <td>0.247720</td>\n",
       "      <td>-19.489524</td>\n",
       "    </tr>\n",
       "    <tr>\n",
       "      <th>1</th>\n",
       "      <td>1996</td>\n",
       "      <td>2010</td>\n",
       "      <td>-0.000840</td>\n",
       "      <td>0.277966</td>\n",
       "      <td>-22.113333</td>\n",
       "    </tr>\n",
       "    <tr>\n",
       "      <th>2</th>\n",
       "      <td>1997</td>\n",
       "      <td>2011</td>\n",
       "      <td>-0.000637</td>\n",
       "      <td>0.211239</td>\n",
       "      <td>-16.666687</td>\n",
       "    </tr>\n",
       "    <tr>\n",
       "      <th>3</th>\n",
       "      <td>1998</td>\n",
       "      <td>2012</td>\n",
       "      <td>-0.000894</td>\n",
       "      <td>0.291683</td>\n",
       "      <td>-22.940191</td>\n",
       "    </tr>\n",
       "    <tr>\n",
       "      <th>4</th>\n",
       "      <td>1999</td>\n",
       "      <td>2013</td>\n",
       "      <td>-0.002333</td>\n",
       "      <td>0.747731</td>\n",
       "      <td>-59.069374</td>\n",
       "    </tr>\n",
       "    <tr>\n",
       "      <th>5</th>\n",
       "      <td>2000</td>\n",
       "      <td>2014</td>\n",
       "      <td>-0.001112</td>\n",
       "      <td>0.364767</td>\n",
       "      <td>-29.052276</td>\n",
       "    </tr>\n",
       "    <tr>\n",
       "      <th>6</th>\n",
       "      <td>2001</td>\n",
       "      <td>2015</td>\n",
       "      <td>0.001618</td>\n",
       "      <td>-0.500055</td>\n",
       "      <td>39.421146</td>\n",
       "    </tr>\n",
       "    <tr>\n",
       "      <th>7</th>\n",
       "      <td>2002</td>\n",
       "      <td>2016</td>\n",
       "      <td>0.003615</td>\n",
       "      <td>-1.136605</td>\n",
       "      <td>90.114197</td>\n",
       "    </tr>\n",
       "    <tr>\n",
       "      <th>8</th>\n",
       "      <td>2003</td>\n",
       "      <td>2017</td>\n",
       "      <td>0.003503</td>\n",
       "      <td>-1.103777</td>\n",
       "      <td>87.739802</td>\n",
       "    </tr>\n",
       "    <tr>\n",
       "      <th>9</th>\n",
       "      <td>2004</td>\n",
       "      <td>2018</td>\n",
       "      <td>0.002315</td>\n",
       "      <td>-0.724656</td>\n",
       "      <td>57.504797</td>\n",
       "    </tr>\n",
       "    <tr>\n",
       "      <th>10</th>\n",
       "      <td>2005</td>\n",
       "      <td>2019</td>\n",
       "      <td>0.002589</td>\n",
       "      <td>-0.817404</td>\n",
       "      <td>65.340255</td>\n",
       "    </tr>\n",
       "    <tr>\n",
       "      <th>11</th>\n",
       "      <td>2006</td>\n",
       "      <td>2020</td>\n",
       "      <td>0.001487</td>\n",
       "      <td>-0.456654</td>\n",
       "      <td>35.832228</td>\n",
       "    </tr>\n",
       "    <tr>\n",
       "      <th>12</th>\n",
       "      <td>2007</td>\n",
       "      <td>2021</td>\n",
       "      <td>-0.000805</td>\n",
       "      <td>0.295007</td>\n",
       "      <td>-25.781196</td>\n",
       "    </tr>\n",
       "    <tr>\n",
       "      <th>13</th>\n",
       "      <td>2008</td>\n",
       "      <td>2022</td>\n",
       "      <td>-0.002504</td>\n",
       "      <td>0.858948</td>\n",
       "      <td>-72.551647</td>\n",
       "    </tr>\n",
       "    <tr>\n",
       "      <th>14</th>\n",
       "      <td>2009</td>\n",
       "      <td>2023</td>\n",
       "      <td>-0.000667</td>\n",
       "      <td>0.251970</td>\n",
       "      <td>-22.447674</td>\n",
       "    </tr>\n",
       "    <tr>\n",
       "      <th>15</th>\n",
       "      <td>2010</td>\n",
       "      <td>2024</td>\n",
       "      <td>0.000581</td>\n",
       "      <td>-0.160239</td>\n",
       "      <td>11.581318</td>\n",
       "    </tr>\n",
       "  </tbody>\n",
       "</table>\n",
       "</div>"
      ],
      "text/plain": [
       "    Start Year  End Year         a         b          c\n",
       "0         1995      2009 -0.000755  0.247720 -19.489524\n",
       "1         1996      2010 -0.000840  0.277966 -22.113333\n",
       "2         1997      2011 -0.000637  0.211239 -16.666687\n",
       "3         1998      2012 -0.000894  0.291683 -22.940191\n",
       "4         1999      2013 -0.002333  0.747731 -59.069374\n",
       "5         2000      2014 -0.001112  0.364767 -29.052276\n",
       "6         2001      2015  0.001618 -0.500055  39.421146\n",
       "7         2002      2016  0.003615 -1.136605  90.114197\n",
       "8         2003      2017  0.003503 -1.103777  87.739802\n",
       "9         2004      2018  0.002315 -0.724656  57.504797\n",
       "10        2005      2019  0.002589 -0.817404  65.340255\n",
       "11        2006      2020  0.001487 -0.456654  35.832228\n",
       "12        2007      2021 -0.000805  0.295007 -25.781196\n",
       "13        2008      2022 -0.002504  0.858948 -72.551647\n",
       "14        2009      2023 -0.000667  0.251970 -22.447674\n",
       "15        2010      2024  0.000581 -0.160239  11.581318"
      ]
     },
     "execution_count": 17,
     "metadata": {},
     "output_type": "execute_result"
    }
   ],
   "source": [
    "df_quadratic_regression_noaa"
   ]
  },
  {
   "cell_type": "code",
   "execution_count": 12,
   "metadata": {
    "vscode": {
     "languageId": "ruby"
    }
   },
   "outputs": [
    {
     "data": {
      "application/vnd.microsoft.datawrangler.viewer.v0+json": {
       "columns": [
        {
         "name": "index",
         "rawType": "int64",
         "type": "integer"
        },
        {
         "name": "Time",
         "rawType": "int64",
         "type": "integer"
        },
        {
         "name": "Anomaly (1961-1990 baseline deg C)",
         "rawType": "float64",
         "type": "float"
        },
        {
         "name": "Anomaly(1850-1900 baseline)",
         "rawType": "float64",
         "type": "float"
        },
        {
         "name": "11yr_centered_avg",
         "rawType": "float64",
         "type": "float"
        },
        {
         "name": "21yr_centered_avg",
         "rawType": "float64",
         "type": "float"
        },
        {
         "name": "31yr_centered_avg",
         "rawType": "float64",
         "type": "float"
        }
       ],
       "conversionMethod": "pd.DataFrame",
       "ref": "fd5e446a-3947-4b12-82c8-78de64603d34",
       "rows": [
        [
         "0",
         "1850",
         "-0.4177114",
         "-0.06121665917647057",
         null,
         null,
         null
        ],
        [
         "1",
         "1851",
         "-0.2333498",
         "0.12314494082352945",
         null,
         null,
         null
        ],
        [
         "2",
         "1852",
         "-0.22939907",
         "0.12709567082352943",
         null,
         null,
         null
        ],
        [
         "3",
         "1853",
         "-0.27035445",
         "0.08614029082352942",
         null,
         null,
         null
        ],
        [
         "4",
         "1854",
         "-0.29152083",
         "0.06497391082352943",
         null,
         null,
         null
        ],
        [
         "5",
         "1855",
         "-0.29691675",
         "0.059577990823529436",
         "0.030400911732620342",
         null,
         null
        ],
        [
         "6",
         "1856",
         "-0.32035372",
         "0.036141020823529435",
         "0.029364408096256712",
         null,
         null
        ],
        [
         "7",
         "1857",
         "-0.46723005",
         "-0.11073530917647056",
         "0.001817171732620347",
         null,
         null
        ],
        [
         "8",
         "1858",
         "-0.3887657",
         "-0.03227095917647055",
         "-0.00862328190374329",
         null,
         null
        ],
        [
         "9",
         "1859",
         "-0.28126517",
         "0.07522957082352943",
         "-0.026360610994652377",
         null,
         null
        ],
        [
         "10",
         "1860",
         "-0.39016518",
         "-0.03367043917647056",
         "-0.030084291903743288",
         "0.004621733680672293",
         null
        ],
        [
         "11",
         "1861",
         "-0.42911294",
         "-0.07261819917647055",
         "-0.034117996449197836",
         "0.006962145109243723",
         null
        ],
        [
         "12",
         "1862",
         "-0.5363694",
         "-0.17987465917647055",
         "-0.03744894190374329",
         "0.002449727014005628",
         null
        ],
        [
         "13",
         "1863",
         "-0.34424406",
         "0.012250680823529425",
         "-0.026957768267379653",
         "-0.002878741081232467",
         null
        ],
        [
         "14",
         "1864",
         "-0.46546507",
         "-0.10897032917647054",
         "-0.020396518267379652",
         "-0.0077785863193277046",
         null
        ],
        [
         "15",
         "1865",
         "-0.33248132",
         "0.02401342082352942",
         "-0.024638550994652383",
         "-0.011783591557422942",
         "0.023198584952561697"
        ],
        [
         "16",
         "1866",
         "-0.3412875",
         "0.015207240823529422",
         "-0.022674694631016016",
         "-0.017840408224089607",
         "0.029181355275142342"
        ],
        [
         "17",
         "1867",
         "-0.35699412",
         "-0.0004993791764705824",
         "-0.01349266190374329",
         "-0.007400175843137228",
         "0.027175539791271377"
        ],
        [
         "18",
         "1868",
         "-0.35182714",
         "0.004667600823529461",
         "0.0042412017326203455",
         "0.014310055490196108",
         "0.023398916242884277"
        ],
        [
         "19",
         "1869",
         "-0.31659195",
         "0.03990279082352943",
         "0.0016041890053476197",
         "0.018363930728291344",
         "0.016238735275142344"
        ],
        [
         "20",
         "1870",
         "-0.32792753",
         "0.02856721082352942",
         "0.009771382641711256",
         "0.016717888823529443",
         "0.010445098178368153"
        ],
        [
         "21",
         "1871",
         "-0.36856276",
         "-0.012068019176470546",
         "0.0014415117326203495",
         "0.024237872633053253",
         "0.006445521726755251"
        ],
        [
         "22",
         "1872",
         "-0.32811058",
         "0.02838416082352946",
         "0.023275935368983983",
         "0.030598961204481828",
         "0.0006896494686907332"
        ],
        [
         "23",
         "1873",
         "-0.3412969",
         "0.01519784082352943",
         "0.05470129245989308",
         "0.03964158025210087",
         "0.003523557855787507"
        ],
        [
         "24",
         "1874",
         "-0.3732512",
         "-0.01675645917647056",
         "0.05908245791443853",
         "0.032590342156862774",
         "0.008003239791271379"
        ],
        [
         "25",
         "1875",
         "-0.37562594",
         "-0.019131199176470548",
         "0.05915153973262035",
         "0.032320889299719914",
         "0.0007260462428842816"
        ],
        [
         "26",
         "1876",
         "-0.4241099",
         "-0.06761515917647054",
         "0.0678499042780749",
         "0.028110303585434204",
         "0.0003663765654649265"
        ],
        [
         "27",
         "1877",
         "-0.10110884",
         "0.2553859008235294",
         "0.07448923882352944",
         "0.02061038644257706",
         "-0.0021641253700189454"
        ],
        [
         "28",
         "1878",
         "-0.011315192",
         "0.34517954882352947",
         "0.07281980064171127",
         "0.019544445014005634",
         "-0.0008173453700189463"
        ],
        [
         "29",
         "1879",
         "-0.30363432",
         "0.05286042082352943",
         "0.059090422459893086",
         "0.024398329775910395",
         "-0.005317986337760881"
        ],
        [
         "30",
         "1880",
         "-0.31583205",
         "0.04066269082352947",
         "0.050192933368983984",
         "0.015338033585434206",
         "-0.004778842144212494"
        ],
        [
         "31",
         "1881",
         "-0.23224552",
         "0.12424922082352943",
         "0.04607678064171126",
         "0.011843395014005635",
         "-0.003215163434535073"
        ],
        [
         "32",
         "1882",
         "-0.29553008",
         "0.06096466082352947",
         "0.03928806609625672",
         "0.005224550252100872",
         "-0.0005865398861479755"
        ],
        [
         "33",
         "1883",
         "-0.3464744",
         "0.010020340823529428",
         "0.013990788823529445",
         "-0.0027044326050419875",
         "-0.004741314402277007"
        ],
        [
         "34",
         "1884",
         "-0.49232006",
         "-0.13582531917647056",
         "-0.007698335540106919",
         "-0.009488576890756273",
         "-0.004857653111954427"
        ],
        [
         "35",
         "1885",
         "-0.47112358",
         "-0.11462883917647054",
         "-0.026173230994652373",
         "-0.013083834033613415",
         "-0.002209328918406039"
        ],
        [
         "36",
         "1886",
         "-0.42090362",
         "-0.06440887917647053",
         "-0.033944402812834194",
         "-0.00872104070028008",
         "-0.0010958679506641025"
        ],
        [
         "37",
         "1887",
         "-0.49878576",
         "-0.14229101917647058",
         "-0.05897285554010692",
         "-0.0008967678431372235",
         "-0.0033666347248576516"
        ],
        [
         "38",
         "1888",
         "-0.37937889",
         "-0.02288414917647058",
         "-0.07707186826737965",
         "-0.019215019747899124",
         "-0.009985232144212491"
        ],
        [
         "39",
         "1889",
         "-0.24989556",
         "0.10659918082352945",
         "-0.08955273463101601",
         "-0.035601612509803884",
         "-0.018250204724857652"
        ],
        [
         "40",
         "1890",
         "-0.50685817",
         "-0.15036342917647055",
         "-0.08559196554010692",
         "-0.03230921155742294",
         "-0.01936446343453507"
        ],
        [
         "41",
         "1891",
         "-0.40131494",
         "-0.044820199176470565",
         "-0.06858139281283421",
         "-0.031241506319327702",
         "-0.01754132924098669"
        ],
        [
         "42",
         "1892",
         "-0.5075585",
         "-0.15106375917647058",
         "-0.05393562463101602",
         "-0.041084887747899125",
         "-0.02012089053130927"
        ],
        [
         "43",
         "1893",
         "-0.49461922",
         "-0.13812447917647058",
         "-0.05275438554010692",
         "-0.05240665060504198",
         "-0.03343414407969636"
        ],
        [
         "44",
         "1894",
         "-0.48376393",
         "-0.12726918917647057",
         "-0.050577544631016005",
         "-0.06436077679551817",
         "-0.050349368531309266"
        ],
        [
         "45",
         "1895",
         "-0.4487516",
         "-0.09225685917647053",
         "-0.049177393721925096",
         "-0.060335689176470565",
         "-0.0576808259506641"
        ],
        [
         "46",
         "1896",
         "-0.28400728",
         "0.07248746082352947",
         "-0.02977303644919783",
         "-0.05309688917647056",
         "-0.06488234046679314"
        ],
        [
         "47",
         "1897",
         "-0.25980017",
         "0.09669457082352945",
         "-0.033194999176470556",
         "-0.05705749298599437",
         "-0.07273050562808346"
        ],
        [
         "48",
         "1898",
         "-0.48579213",
         "-0.12929738917647055",
         "-0.03553396281283419",
         "-0.05777339489075627",
         "-0.07826215143453508"
        ],
        [
         "49",
         "1899",
         "-0.35543364",
         "0.0010611008235294483",
         "-0.04488776554010692",
         "-0.06521664536694675",
         "-0.07555125369259959"
        ]
       ],
       "shape": {
        "columns": 6,
        "rows": 251
       }
      },
      "text/html": [
       "<div>\n",
       "<style scoped>\n",
       "    .dataframe tbody tr th:only-of-type {\n",
       "        vertical-align: middle;\n",
       "    }\n",
       "\n",
       "    .dataframe tbody tr th {\n",
       "        vertical-align: top;\n",
       "    }\n",
       "\n",
       "    .dataframe thead th {\n",
       "        text-align: right;\n",
       "    }\n",
       "</style>\n",
       "<table border=\"1\" class=\"dataframe\">\n",
       "  <thead>\n",
       "    <tr style=\"text-align: right;\">\n",
       "      <th></th>\n",
       "      <th>Time</th>\n",
       "      <th>Anomaly (1961-1990 baseline deg C)</th>\n",
       "      <th>Anomaly(1850-1900 baseline)</th>\n",
       "      <th>11yr_centered_avg</th>\n",
       "      <th>21yr_centered_avg</th>\n",
       "      <th>31yr_centered_avg</th>\n",
       "    </tr>\n",
       "  </thead>\n",
       "  <tbody>\n",
       "    <tr>\n",
       "      <th>0</th>\n",
       "      <td>1850</td>\n",
       "      <td>-0.417711</td>\n",
       "      <td>-0.061217</td>\n",
       "      <td>NaN</td>\n",
       "      <td>NaN</td>\n",
       "      <td>NaN</td>\n",
       "    </tr>\n",
       "    <tr>\n",
       "      <th>1</th>\n",
       "      <td>1851</td>\n",
       "      <td>-0.233350</td>\n",
       "      <td>0.123145</td>\n",
       "      <td>NaN</td>\n",
       "      <td>NaN</td>\n",
       "      <td>NaN</td>\n",
       "    </tr>\n",
       "    <tr>\n",
       "      <th>2</th>\n",
       "      <td>1852</td>\n",
       "      <td>-0.229399</td>\n",
       "      <td>0.127096</td>\n",
       "      <td>NaN</td>\n",
       "      <td>NaN</td>\n",
       "      <td>NaN</td>\n",
       "    </tr>\n",
       "    <tr>\n",
       "      <th>3</th>\n",
       "      <td>1853</td>\n",
       "      <td>-0.270354</td>\n",
       "      <td>0.086140</td>\n",
       "      <td>NaN</td>\n",
       "      <td>NaN</td>\n",
       "      <td>NaN</td>\n",
       "    </tr>\n",
       "    <tr>\n",
       "      <th>4</th>\n",
       "      <td>1854</td>\n",
       "      <td>-0.291521</td>\n",
       "      <td>0.064974</td>\n",
       "      <td>NaN</td>\n",
       "      <td>NaN</td>\n",
       "      <td>NaN</td>\n",
       "    </tr>\n",
       "    <tr>\n",
       "      <th>...</th>\n",
       "      <td>...</td>\n",
       "      <td>...</td>\n",
       "      <td>...</td>\n",
       "      <td>...</td>\n",
       "      <td>...</td>\n",
       "      <td>...</td>\n",
       "    </tr>\n",
       "    <tr>\n",
       "      <th>246</th>\n",
       "      <td>2096</td>\n",
       "      <td>NaN</td>\n",
       "      <td>8.995113</td>\n",
       "      <td>NaN</td>\n",
       "      <td>NaN</td>\n",
       "      <td>NaN</td>\n",
       "    </tr>\n",
       "    <tr>\n",
       "      <th>247</th>\n",
       "      <td>2097</td>\n",
       "      <td>NaN</td>\n",
       "      <td>9.161602</td>\n",
       "      <td>NaN</td>\n",
       "      <td>NaN</td>\n",
       "      <td>NaN</td>\n",
       "    </tr>\n",
       "    <tr>\n",
       "      <th>248</th>\n",
       "      <td>2098</td>\n",
       "      <td>NaN</td>\n",
       "      <td>9.329770</td>\n",
       "      <td>NaN</td>\n",
       "      <td>NaN</td>\n",
       "      <td>NaN</td>\n",
       "    </tr>\n",
       "    <tr>\n",
       "      <th>249</th>\n",
       "      <td>2099</td>\n",
       "      <td>NaN</td>\n",
       "      <td>9.499618</td>\n",
       "      <td>NaN</td>\n",
       "      <td>NaN</td>\n",
       "      <td>NaN</td>\n",
       "    </tr>\n",
       "    <tr>\n",
       "      <th>250</th>\n",
       "      <td>2100</td>\n",
       "      <td>NaN</td>\n",
       "      <td>9.671144</td>\n",
       "      <td>NaN</td>\n",
       "      <td>NaN</td>\n",
       "      <td>NaN</td>\n",
       "    </tr>\n",
       "  </tbody>\n",
       "</table>\n",
       "<p>251 rows × 6 columns</p>\n",
       "</div>"
      ],
      "text/plain": [
       "     Time  Anomaly (1961-1990 baseline deg C)  Anomaly(1850-1900 baseline)  \\\n",
       "0    1850                           -0.417711                    -0.061217   \n",
       "1    1851                           -0.233350                     0.123145   \n",
       "2    1852                           -0.229399                     0.127096   \n",
       "3    1853                           -0.270354                     0.086140   \n",
       "4    1854                           -0.291521                     0.064974   \n",
       "..    ...                                 ...                          ...   \n",
       "246  2096                                 NaN                     8.995113   \n",
       "247  2097                                 NaN                     9.161602   \n",
       "248  2098                                 NaN                     9.329770   \n",
       "249  2099                                 NaN                     9.499618   \n",
       "250  2100                                 NaN                     9.671144   \n",
       "\n",
       "     11yr_centered_avg  21yr_centered_avg  31yr_centered_avg  \n",
       "0                  NaN                NaN                NaN  \n",
       "1                  NaN                NaN                NaN  \n",
       "2                  NaN                NaN                NaN  \n",
       "3                  NaN                NaN                NaN  \n",
       "4                  NaN                NaN                NaN  \n",
       "..                 ...                ...                ...  \n",
       "246                NaN                NaN                NaN  \n",
       "247                NaN                NaN                NaN  \n",
       "248                NaN                NaN                NaN  \n",
       "249                NaN                NaN                NaN  \n",
       "250                NaN                NaN                NaN  \n",
       "\n",
       "[251 rows x 6 columns]"
      ]
     },
     "execution_count": 12,
     "metadata": {},
     "output_type": "execute_result"
    }
   ],
   "source": [
    "# Initialize lists to store the coefficients for the quadratic regression\n",
    "coefficients_crut = []\n",
    "window_size = 15\n",
    "index0_year = 1849\n",
    "\n",
    "# Loop through the dataframe starting from 1994\n",
    "for start_year in range(1995, df_crut['Time'].max() - window_size + 2):\n",
    "    end_year = start_year + window_size - 1\n",
    "    df_window_crut = df_crut[(df_crut['Time'] >= start_year) & (df_crut['Time'] <= end_year)]\n",
    "    # Perform quadratic regression\n",
    "    coeffs = np.polyfit(df_window_crut.index + 1, df_window_crut['Anomaly(1850-1900 baseline)'], 2)\n",
    "    \n",
    "    # Append the results to the list\n",
    "    coefficients_crut.append(coeffs)\n",
    "\n",
    "# Create a new dataframe to store the results\n",
    "df_quadratic_regression_crut = pd.DataFrame({\n",
    "    'Start Year': range(1995, df_crut['Time'].max() - window_size + 2),\n",
    "    'End Year': range(1995 + window_size - 1, df_crut['Time'].max() + 1),\n",
    "    'a': [coeff[0] for coeff in coefficients_crut],\n",
    "    'b': [coeff[1] for coeff in coefficients_crut],\n",
    "    'c': [coeff[2] for coeff in coefficients_crut]\n",
    "})\n",
    "\n",
    "# Extract the coefficients for the year 2023\n",
    "coeffs_2024_crut = df_quadratic_regression_crut[df_quadratic_regression_crut['End Year'] == 2024].iloc[0]\n",
    "a_2024_crut = coeffs_2024_crut['a']\n",
    "b_2024_crut = coeffs_2024_crut['b']\n",
    "c_2024_crut = coeffs_2024_crut['c']\n",
    "\n",
    "# Compute the anomaly values for the years 2024 to 2100 using the quadratic trend\n",
    "new_anomalies_crut = []\n",
    "for year in range(2025, 2101):\n",
    "    anomaly = a_2024_crut * (year - index0_year)**2 + b_2024_crut * (year - index0_year) + c_2024_crut\n",
    "    new_anomalies_crut.append({'Year': year, 'Anomaly(1850-1900 baseline)': anomaly})\n",
    "\n",
    "# Convert the list to a DataFrame\n",
    "df_new_anomalies_crut = pd.DataFrame(new_anomalies_crut)\n",
    "\n",
    "# Append the new anomaly values to the existing df_crut DataFrame\n",
    "# df_crut = pd.concat([df_crut, df_new_anomalies_crut], ignore_index=True)\n",
    "df_crut = pd.concat([df_crut, df_new_anomalies_crut.rename(columns={'Year': 'Time'})], ignore_index=True)\n",
    "\n",
    "# Compute the 11-year centered average\n",
    "df_crut['11yr_centered_avg'] = df_crut['Anomaly(1850-1900 baseline)'].rolling(window=11, center=True).mean()\n",
    "\n",
    "# Compute the 21-year centered average\n",
    "df_crut['21yr_centered_avg'] = df_crut['Anomaly(1850-1900 baseline)'].rolling(window=21, center=True).mean()\n",
    "\n",
    "# Compute the 31-year centered average starting at 2010 onwards for df_crut\n",
    "df_crut['31yr_centered_avg'] = df_crut['Anomaly(1850-1900 baseline)'].rolling(window=31, center=True).mean()\n",
    "\n",
    "# Display the updated DataFrame\n",
    "df_crut"
   ]
  },
  {
   "cell_type": "code",
   "execution_count": 38,
   "metadata": {
    "vscode": {
     "languageId": "ruby"
    }
   },
   "outputs": [
    {
     "data": {
      "application/vnd.microsoft.datawrangler.viewer.v0+json": {
       "columns": [
        {
         "name": "index",
         "rawType": "int64",
         "type": "integer"
        },
        {
         "name": "Year",
         "rawType": "int64",
         "type": "integer"
        },
        {
         "name": "Annual_Anomaly(1951-Dec 1980 baseline)",
         "rawType": "float64",
         "type": "float"
        },
        {
         "name": "Anomaly(1850-1900 baseline)",
         "rawType": "float64",
         "type": "float"
        },
        {
         "name": "11yr_centered_avg",
         "rawType": "float64",
         "type": "float"
        },
        {
         "name": "21yr_centered_avg",
         "rawType": "float64",
         "type": "float"
        },
        {
         "name": "31yr_centered_avg",
         "rawType": "float64",
         "type": "float"
        }
       ],
       "conversionMethod": "pd.DataFrame",
       "ref": "097a13e1-4b2c-48dc-a862-0c03c67326f7",
       "rows": [
        [
         "0",
         "1850",
         "-0.436",
         "-0.1297843137254902",
         null,
         null,
         null
        ],
        [
         "1",
         "1851",
         "-0.321",
         "-0.014784313725490217",
         null,
         null,
         null
        ],
        [
         "2",
         "1852",
         "-0.292",
         "0.014215686274509809",
         null,
         null,
         null
        ],
        [
         "3",
         "1853",
         "-0.295",
         "0.011215686274509806",
         null,
         null,
         null
        ],
        [
         "4",
         "1854",
         "-0.283",
         "0.023215686274509817",
         null,
         null,
         null
        ],
        [
         "5",
         "1855",
         "-0.278",
         "0.028215686274509766",
         "-0.03678431372549021",
         null,
         null
        ],
        [
         "6",
         "1856",
         "-0.396",
         "-0.08978431372549023",
         "-0.03851158645276294",
         null,
         null
        ],
        [
         "7",
         "1857",
         "-0.538",
         "-0.23178431372549024",
         "-0.05969340463458113",
         null,
         null
        ],
        [
         "8",
         "1858",
         "-0.334",
         "-0.02778431372549023",
         "-0.06160249554367203",
         null,
         null
        ],
        [
         "9",
         "1859",
         "-0.222",
         "0.08421568627450979",
         "-0.06614795008912658",
         null,
         null
        ],
        [
         "10",
         "1860",
         "-0.378",
         "-0.07178431372549021",
         "-0.06323885918003568",
         "-0.016879551820728304",
         null
        ],
        [
         "11",
         "1861",
         "-0.455",
         "-0.14878431372549022",
         "-0.057147950089126584",
         "-0.011403361344537831",
         null
        ],
        [
         "12",
         "1862",
         "-0.554",
         "-0.24778431372549026",
         "-0.03623885918003567",
         "-0.009689075630252116",
         null
        ],
        [
         "13",
         "1863",
         "-0.313",
         "-0.00678431372549021",
         "-0.0065115864527629415",
         "-0.007879551820728307",
         null
        ],
        [
         "14",
         "1864",
         "-0.345",
         "-0.03878431372549018",
         "0.004033868092691606",
         "-0.008212885154061642",
         null
        ],
        [
         "15",
         "1865",
         "-0.251",
         "0.05521568627450979",
         "-0.0019661319073083923",
         "-0.01121288515406164",
         "0.014989879822896887"
        ],
        [
         "16",
         "1866",
         "-0.211",
         "0.0952156862745098",
         "0.003215686274509789",
         "-0.014641456582633066",
         "0.02315117014547753"
        ],
        [
         "17",
         "1867",
         "-0.166",
         "0.14021568627450978",
         "0.018670231729055246",
         "0.005549019607843125",
         "0.025409234661606567"
        ],
        [
         "18",
         "1868",
         "-0.211",
         "0.0952156862745098",
         "0.04594295900178252",
         "0.03683473389355742",
         "0.025022137887413014"
        ],
        [
         "19",
         "1869",
         "-0.218",
         "0.08821568627450979",
         "0.04694295900178252",
         "0.04164425770308122",
         "0.019312460468058176"
        ],
        [
         "20",
         "1870",
         "-0.288",
         "0.018215686274509812",
         "0.04685204991087344",
         "0.03797759103641456",
         "0.014247944339025922"
        ],
        [
         "21",
         "1871",
         "-0.321",
         "-0.014784313725490217",
         "0.03785204991087344",
         "0.04726330532212884",
         "0.00824794433902592"
        ],
        [
         "22",
         "1872",
         "-0.285",
         "0.021215686274509815",
         "0.059579322638146165",
         "0.05697759103641455",
         "0.004860847564832372"
        ],
        [
         "23",
         "1873",
         "-0.254",
         "0.05221568627450979",
         "0.08548841354723707",
         "0.06888235294117646",
         "0.012731815306767858"
        ],
        [
         "24",
         "1874",
         "-0.302",
         "0.0042156862745098",
         "0.08348841354723707",
         "0.061310924369747895",
         "0.017925363693864636"
        ],
        [
         "25",
         "1875",
         "-0.346",
         "-0.039784313725490184",
         "0.07612477718360071",
         "0.05678711484593836",
         "0.010183428209993664"
        ],
        [
         "26",
         "1876",
         "-0.35",
         "-0.04378431372549019",
         "0.08567023172905526",
         "0.04664425770308123",
         "0.011247944339025923"
        ],
        [
         "27",
         "1877",
         "0.028",
         "0.3342156862745098",
         "0.09203386809269162",
         "0.03283473389355741",
         "0.012828589500316245"
        ],
        [
         "28",
         "1878",
         "0.119",
         "0.4252156862745098",
         "0.09030659536541888",
         "0.02673949579831932",
         "0.018409234661606568"
        ],
        [
         "29",
         "1879",
         "-0.233",
         "0.07321568627450978",
         "0.07048841354723706",
         "0.028549019607843132",
         "0.01640923466160657"
        ],
        [
         "30",
         "1880",
         "-0.299",
         "0.007215686274509803",
         "0.05794295900178253",
         "0.016929971988795513",
         "0.01740923466160657"
        ],
        [
         "31",
         "1881",
         "-0.183",
         "0.1232156862745098",
         "0.04721568627450979",
         "0.014215686274509795",
         "0.01824794433902592"
        ],
        [
         "32",
         "1882",
         "-0.251",
         "0.05521568627450979",
         "0.03348841354723706",
         "0.010168067226890749",
         "0.01828020240354205"
        ],
        [
         "33",
         "1883",
         "-0.304",
         "0.0022156862745097983",
         "0.004215686274509792",
         "0.005596638655462176",
         "0.01034471853257431"
        ],
        [
         "34",
         "1884",
         "-0.472",
         "-0.16578431372549018",
         "-0.02232976827094475",
         "-0.00016526610644258612",
         "0.009344718532574311"
        ],
        [
         "35",
         "1885",
         "-0.44",
         "-0.1337843137254902",
         "-0.043147950089126565",
         "-0.0007366946778711581",
         "0.01202213788741302"
        ],
        [
         "36",
         "1886",
         "-0.464",
         "-0.15778431372549023",
         "-0.04732976827094475",
         "0.0050252100840336026",
         "0.014506008855154955"
        ],
        [
         "37",
         "1887",
         "-0.501",
         "-0.1947843137254902",
         "-0.06760249554367202",
         "0.011691876750700268",
         "0.012860847564832375"
        ],
        [
         "38",
         "1888",
         "-0.294",
         "0.012215686274509807",
         "-0.07942067736185385",
         "-0.009260504201680684",
         "0.006860847564832375"
        ],
        [
         "39",
         "1889",
         "-0.173",
         "0.1332156862745098",
         "-0.0858752228163993",
         "-0.026450980392156875",
         "-0.0019456040480708514"
        ],
        [
         "40",
         "1890",
         "-0.462",
         "-0.15578431372549023",
         "-0.07151158645276294",
         "-0.02178431372549021",
         "-0.00330044275774827"
        ],
        [
         "41",
         "1891",
         "-0.345",
         "-0.03878431372549018",
         "-0.051966131907308394",
         "-0.017593837535014017",
         "-0.0005585072738773036"
        ],
        [
         "42",
         "1892",
         "-0.406",
         "-0.09978431372549024",
         "-0.028875222816399294",
         "-0.026593837535014018",
         "-0.003203668564199885"
        ],
        [
         "43",
         "1893",
         "-0.381",
         "-0.07478431372549021",
         "-0.020784313725490205",
         "-0.037070028011204494",
         "-0.01865528146742569"
        ],
        [
         "44",
         "1894",
         "-0.375",
         "-0.06878431372549021",
         "-0.01605704099821748",
         "-0.04768907563025211",
         "-0.03907463630613537"
        ],
        [
         "45",
         "1895",
         "-0.314",
         "-0.007784313725490211",
         "-0.012602495543672028",
         "-0.041593837535014014",
         "-0.04681657179000634"
        ],
        [
         "46",
         "1896",
         "-0.225",
         "0.08121568627450979",
         "0.010215686274509795",
         "-0.0330700280112045",
         "-0.05275205566097408"
        ],
        [
         "47",
         "1897",
         "-0.21",
         "0.0962156862745098",
         "0.007761140819964338",
         "-0.03154621848739497",
         "-0.06001012017710311"
        ],
        [
         "48",
         "1898",
         "-0.412",
         "-0.10578431372549019",
         "0.0018520499108734343",
         "-0.029165266106442586",
         "-0.06417141049968375"
        ],
        [
         "49",
         "1899",
         "-0.242",
         "0.0642156862745098",
         "-0.011420677361853841",
         "-0.039641456582633065",
         "-0.060655281467425694"
        ]
       ],
       "shape": {
        "columns": 6,
        "rows": 251
       }
      },
      "text/html": [
       "<div>\n",
       "<style scoped>\n",
       "    .dataframe tbody tr th:only-of-type {\n",
       "        vertical-align: middle;\n",
       "    }\n",
       "\n",
       "    .dataframe tbody tr th {\n",
       "        vertical-align: top;\n",
       "    }\n",
       "\n",
       "    .dataframe thead th {\n",
       "        text-align: right;\n",
       "    }\n",
       "</style>\n",
       "<table border=\"1\" class=\"dataframe\">\n",
       "  <thead>\n",
       "    <tr style=\"text-align: right;\">\n",
       "      <th></th>\n",
       "      <th>Year</th>\n",
       "      <th>Annual_Anomaly(1951-Dec 1980 baseline)</th>\n",
       "      <th>Anomaly(1850-1900 baseline)</th>\n",
       "      <th>11yr_centered_avg</th>\n",
       "      <th>21yr_centered_avg</th>\n",
       "      <th>31yr_centered_avg</th>\n",
       "    </tr>\n",
       "  </thead>\n",
       "  <tbody>\n",
       "    <tr>\n",
       "      <th>0</th>\n",
       "      <td>1850</td>\n",
       "      <td>-0.436</td>\n",
       "      <td>-0.129784</td>\n",
       "      <td>NaN</td>\n",
       "      <td>NaN</td>\n",
       "      <td>NaN</td>\n",
       "    </tr>\n",
       "    <tr>\n",
       "      <th>1</th>\n",
       "      <td>1851</td>\n",
       "      <td>-0.321</td>\n",
       "      <td>-0.014784</td>\n",
       "      <td>NaN</td>\n",
       "      <td>NaN</td>\n",
       "      <td>NaN</td>\n",
       "    </tr>\n",
       "    <tr>\n",
       "      <th>2</th>\n",
       "      <td>1852</td>\n",
       "      <td>-0.292</td>\n",
       "      <td>0.014216</td>\n",
       "      <td>NaN</td>\n",
       "      <td>NaN</td>\n",
       "      <td>NaN</td>\n",
       "    </tr>\n",
       "    <tr>\n",
       "      <th>3</th>\n",
       "      <td>1853</td>\n",
       "      <td>-0.295</td>\n",
       "      <td>0.011216</td>\n",
       "      <td>NaN</td>\n",
       "      <td>NaN</td>\n",
       "      <td>NaN</td>\n",
       "    </tr>\n",
       "    <tr>\n",
       "      <th>4</th>\n",
       "      <td>1854</td>\n",
       "      <td>-0.283</td>\n",
       "      <td>0.023216</td>\n",
       "      <td>NaN</td>\n",
       "      <td>NaN</td>\n",
       "      <td>NaN</td>\n",
       "    </tr>\n",
       "    <tr>\n",
       "      <th>...</th>\n",
       "      <td>...</td>\n",
       "      <td>...</td>\n",
       "      <td>...</td>\n",
       "      <td>...</td>\n",
       "      <td>...</td>\n",
       "      <td>...</td>\n",
       "    </tr>\n",
       "    <tr>\n",
       "      <th>246</th>\n",
       "      <td>2096</td>\n",
       "      <td>NaN</td>\n",
       "      <td>9.551245</td>\n",
       "      <td>NaN</td>\n",
       "      <td>NaN</td>\n",
       "      <td>NaN</td>\n",
       "    </tr>\n",
       "    <tr>\n",
       "      <th>247</th>\n",
       "      <td>2097</td>\n",
       "      <td>NaN</td>\n",
       "      <td>9.727635</td>\n",
       "      <td>NaN</td>\n",
       "      <td>NaN</td>\n",
       "      <td>NaN</td>\n",
       "    </tr>\n",
       "    <tr>\n",
       "      <th>248</th>\n",
       "      <td>2098</td>\n",
       "      <td>NaN</td>\n",
       "      <td>9.905798</td>\n",
       "      <td>NaN</td>\n",
       "      <td>NaN</td>\n",
       "      <td>NaN</td>\n",
       "    </tr>\n",
       "    <tr>\n",
       "      <th>249</th>\n",
       "      <td>2099</td>\n",
       "      <td>NaN</td>\n",
       "      <td>10.085732</td>\n",
       "      <td>NaN</td>\n",
       "      <td>NaN</td>\n",
       "      <td>NaN</td>\n",
       "    </tr>\n",
       "    <tr>\n",
       "      <th>250</th>\n",
       "      <td>2100</td>\n",
       "      <td>NaN</td>\n",
       "      <td>10.267438</td>\n",
       "      <td>NaN</td>\n",
       "      <td>NaN</td>\n",
       "      <td>NaN</td>\n",
       "    </tr>\n",
       "  </tbody>\n",
       "</table>\n",
       "<p>251 rows × 6 columns</p>\n",
       "</div>"
      ],
      "text/plain": [
       "     Year  Annual_Anomaly(1951-Dec 1980 baseline)  \\\n",
       "0    1850                                  -0.436   \n",
       "1    1851                                  -0.321   \n",
       "2    1852                                  -0.292   \n",
       "3    1853                                  -0.295   \n",
       "4    1854                                  -0.283   \n",
       "..    ...                                     ...   \n",
       "246  2096                                     NaN   \n",
       "247  2097                                     NaN   \n",
       "248  2098                                     NaN   \n",
       "249  2099                                     NaN   \n",
       "250  2100                                     NaN   \n",
       "\n",
       "     Anomaly(1850-1900 baseline)  11yr_centered_avg  21yr_centered_avg  \\\n",
       "0                      -0.129784                NaN                NaN   \n",
       "1                      -0.014784                NaN                NaN   \n",
       "2                       0.014216                NaN                NaN   \n",
       "3                       0.011216                NaN                NaN   \n",
       "4                       0.023216                NaN                NaN   \n",
       "..                           ...                ...                ...   \n",
       "246                     9.551245                NaN                NaN   \n",
       "247                     9.727635                NaN                NaN   \n",
       "248                     9.905798                NaN                NaN   \n",
       "249                    10.085732                NaN                NaN   \n",
       "250                    10.267438                NaN                NaN   \n",
       "\n",
       "     31yr_centered_avg  \n",
       "0                  NaN  \n",
       "1                  NaN  \n",
       "2                  NaN  \n",
       "3                  NaN  \n",
       "4                  NaN  \n",
       "..                 ...  \n",
       "246                NaN  \n",
       "247                NaN  \n",
       "248                NaN  \n",
       "249                NaN  \n",
       "250                NaN  \n",
       "\n",
       "[251 rows x 6 columns]"
      ]
     },
     "execution_count": 38,
     "metadata": {},
     "output_type": "execute_result"
    }
   ],
   "source": [
    "# Initialize lists to store the coefficients for the quadratic regression\n",
    "coefficients_berkeley = []\n",
    "window_size = 15\n",
    "index0_year = 1849\n",
    "# Loop through the dataframe starting from 1994\n",
    "for start_year in range(1995, df_berkeley['Year'].max() - window_size + 2):\n",
    "    end_year = start_year + window_size - 1\n",
    "    df_window_berkeley = df_berkeley[(df_berkeley['Year'] >= start_year) & (df_berkeley['Year'] <= end_year)]\n",
    "    # Perform quadratic regression\n",
    "    coeffs = np.polyfit(df_window_berkeley.index + 1, df_window_berkeley['Anomaly(1850-1900 baseline)'], 2)\n",
    "    \n",
    "    # Append the results to the list\n",
    "    coefficients_berkeley.append(coeffs)\n",
    "\n",
    "# Create a new dataframe to store the results\n",
    "df_quadratic_regression_berkeley = pd.DataFrame({\n",
    "    'Start Year': range(1995, df_berkeley['Year'].max() - window_size + 2),\n",
    "    'End Year': range(1995 + window_size - 1, df_berkeley['Year'].max() + 1),\n",
    "    'a': [coeff[0] for coeff in coefficients_berkeley],\n",
    "    'b': [coeff[1] for coeff in coefficients_berkeley],\n",
    "    'c': [coeff[2] for coeff in coefficients_berkeley]\n",
    "})\n",
    "\n",
    "# Extract the coefficients for the year 2023\n",
    "coeffs_2024_berkeley = df_quadratic_regression_berkeley[df_quadratic_regression_berkeley['End Year'] == 2024].iloc[0]\n",
    "a_2024_berkeley = coeffs_2024_berkeley['a']\n",
    "b_2024_berkeley = coeffs_2024_berkeley['b']\n",
    "c_2024_berkeley = coeffs_2024_berkeley['c']\n",
    "\n",
    "# Compute the anomaly values for the years 2024 to 2100 using the quadratic trend\n",
    "new_anomalies_berkeley = []\n",
    "for year in range(2025, 2101):\n",
    "    anomaly = a_2024_berkeley * (year - index0_year)**2 + b_2024_berkeley * (year - index0_year) + c_2024_berkeley\n",
    "    new_anomalies_berkeley.append({'Year': year, 'Anomaly(1850-1900 baseline)': anomaly})\n",
    "\n",
    "# Convert the list to a DataFrame\n",
    "df_new_anomalies_berkeley = pd.DataFrame(new_anomalies_berkeley)\n",
    "\n",
    "# Append the new anomaly values to the existing df_berkeley DataFrame\n",
    "df_berkeley = pd.concat([df_berkeley, df_new_anomalies_berkeley], ignore_index=True)\n",
    "\n",
    "# Compute the 11-year centered average\n",
    "df_berkeley['11yr_centered_avg'] = df_berkeley['Anomaly(1850-1900 baseline)'].rolling(window=11, center=True).mean()\n",
    "\n",
    "# Compute the 21-year centered average\n",
    "df_berkeley['21yr_centered_avg'] = df_berkeley['Anomaly(1850-1900 baseline)'].rolling(window=21, center=True).mean()\n",
    "\n",
    "# Compute the 31-year centered average starting at 2010 onwards for df_berkeley\n",
    "df_berkeley['31yr_centered_avg'] = df_berkeley['Anomaly(1850-1900 baseline)'].rolling(window=31, center=True).mean()\n",
    "\n",
    "# Display the updated DataFrame\n",
    "df_berkeley"
   ]
  },
  {
   "cell_type": "code",
   "execution_count": 39,
   "metadata": {
    "vscode": {
     "languageId": "ruby"
    }
   },
   "outputs": [
    {
     "data": {
      "application/vnd.microsoft.datawrangler.viewer.v0+json": {
       "columns": [
        {
         "name": "index",
         "rawType": "int64",
         "type": "integer"
        },
        {
         "name": "Start Year",
         "rawType": "int64",
         "type": "integer"
        },
        {
         "name": "End Year",
         "rawType": "int64",
         "type": "integer"
        },
        {
         "name": "a",
         "rawType": "float64",
         "type": "float"
        },
        {
         "name": "b",
         "rawType": "float64",
         "type": "float"
        },
        {
         "name": "c",
         "rawType": "float64",
         "type": "float"
        }
       ],
       "conversionMethod": "pd.DataFrame",
       "ref": "756a86ab-de67-4131-ae93-0dac22dc1ec5",
       "rows": [
        [
         "0",
         "1995",
         "2009",
         "-0.00068713639301879",
         "0.22588516483517865",
         "-17.564145496661297"
        ],
        [
         "1",
         "1996",
         "2010",
         "-0.0005350678733026057",
         "0.1826723335486314",
         "-14.515732730001824"
        ],
        [
         "2",
         "1997",
         "2011",
         "-0.0001941661279896276",
         "0.07343078539107045",
         "-5.77909039000147"
        ],
        [
         "3",
         "1998",
         "2012",
         "-0.0005501777634098777",
         "0.18379474789816608",
         "-14.328302283912954"
        ],
        [
         "4",
         "1999",
         "2013",
         "-0.002243616677440097",
         "0.719706351001903",
         "-56.7036264274911"
        ],
        [
         "5",
         "2000",
         "2014",
         "-0.0011461700064641304",
         "0.37534329347123563",
         "-29.702108134022826"
        ],
        [
         "6",
         "2001",
         "2015",
         "0.0013703135100211175",
         "-0.42225612475814556",
         "33.46986449045543"
        ],
        [
         "7",
         "2002",
         "2016",
         "0.003482627666451401",
         "-1.0950658532644506",
         "87.02187489765699"
        ],
        [
         "8",
         "2003",
         "2017",
         "0.0031680672268902766",
         "-0.9963247899158093",
         "79.28056568626171"
        ],
        [
         "9",
         "2004",
         "2018",
         "0.001977537168713785",
         "-0.615907756948981",
         "48.908072829135556"
        ],
        [
         "10",
         "2005",
         "2019",
         "0.002660875888816708",
         "-0.841527682611388",
         "67.51934677870172"
        ],
        [
         "11",
         "2006",
         "2020",
         "0.0016865707821589397",
         "-0.5224916451195636",
         "41.413088407669164"
        ],
        [
         "12",
         "2007",
         "2021",
         "-0.0004434389140269613",
         "0.1754134130574688",
         "-15.730162174095321"
        ],
        [
         "13",
         "2008",
         "2022",
         "-0.0021645927601811666",
         "0.7467912249515763",
         "-63.13133715794489"
        ],
        [
         "14",
         "2009",
         "2023",
         "-0.0001402714932135845",
         "0.07687925016190865",
         "-7.73210234865726"
        ],
        [
         "15",
         "2010",
         "2024",
         "0.0008859890109891618",
         "-0.26217445054950056",
         "20.255031070894066"
        ]
       ],
       "shape": {
        "columns": 5,
        "rows": 16
       }
      },
      "text/html": [
       "<div>\n",
       "<style scoped>\n",
       "    .dataframe tbody tr th:only-of-type {\n",
       "        vertical-align: middle;\n",
       "    }\n",
       "\n",
       "    .dataframe tbody tr th {\n",
       "        vertical-align: top;\n",
       "    }\n",
       "\n",
       "    .dataframe thead th {\n",
       "        text-align: right;\n",
       "    }\n",
       "</style>\n",
       "<table border=\"1\" class=\"dataframe\">\n",
       "  <thead>\n",
       "    <tr style=\"text-align: right;\">\n",
       "      <th></th>\n",
       "      <th>Start Year</th>\n",
       "      <th>End Year</th>\n",
       "      <th>a</th>\n",
       "      <th>b</th>\n",
       "      <th>c</th>\n",
       "    </tr>\n",
       "  </thead>\n",
       "  <tbody>\n",
       "    <tr>\n",
       "      <th>0</th>\n",
       "      <td>1995</td>\n",
       "      <td>2009</td>\n",
       "      <td>-0.000687</td>\n",
       "      <td>0.225885</td>\n",
       "      <td>-17.564145</td>\n",
       "    </tr>\n",
       "    <tr>\n",
       "      <th>1</th>\n",
       "      <td>1996</td>\n",
       "      <td>2010</td>\n",
       "      <td>-0.000535</td>\n",
       "      <td>0.182672</td>\n",
       "      <td>-14.515733</td>\n",
       "    </tr>\n",
       "    <tr>\n",
       "      <th>2</th>\n",
       "      <td>1997</td>\n",
       "      <td>2011</td>\n",
       "      <td>-0.000194</td>\n",
       "      <td>0.073431</td>\n",
       "      <td>-5.779090</td>\n",
       "    </tr>\n",
       "    <tr>\n",
       "      <th>3</th>\n",
       "      <td>1998</td>\n",
       "      <td>2012</td>\n",
       "      <td>-0.000550</td>\n",
       "      <td>0.183795</td>\n",
       "      <td>-14.328302</td>\n",
       "    </tr>\n",
       "    <tr>\n",
       "      <th>4</th>\n",
       "      <td>1999</td>\n",
       "      <td>2013</td>\n",
       "      <td>-0.002244</td>\n",
       "      <td>0.719706</td>\n",
       "      <td>-56.703626</td>\n",
       "    </tr>\n",
       "    <tr>\n",
       "      <th>5</th>\n",
       "      <td>2000</td>\n",
       "      <td>2014</td>\n",
       "      <td>-0.001146</td>\n",
       "      <td>0.375343</td>\n",
       "      <td>-29.702108</td>\n",
       "    </tr>\n",
       "    <tr>\n",
       "      <th>6</th>\n",
       "      <td>2001</td>\n",
       "      <td>2015</td>\n",
       "      <td>0.001370</td>\n",
       "      <td>-0.422256</td>\n",
       "      <td>33.469864</td>\n",
       "    </tr>\n",
       "    <tr>\n",
       "      <th>7</th>\n",
       "      <td>2002</td>\n",
       "      <td>2016</td>\n",
       "      <td>0.003483</td>\n",
       "      <td>-1.095066</td>\n",
       "      <td>87.021875</td>\n",
       "    </tr>\n",
       "    <tr>\n",
       "      <th>8</th>\n",
       "      <td>2003</td>\n",
       "      <td>2017</td>\n",
       "      <td>0.003168</td>\n",
       "      <td>-0.996325</td>\n",
       "      <td>79.280566</td>\n",
       "    </tr>\n",
       "    <tr>\n",
       "      <th>9</th>\n",
       "      <td>2004</td>\n",
       "      <td>2018</td>\n",
       "      <td>0.001978</td>\n",
       "      <td>-0.615908</td>\n",
       "      <td>48.908073</td>\n",
       "    </tr>\n",
       "    <tr>\n",
       "      <th>10</th>\n",
       "      <td>2005</td>\n",
       "      <td>2019</td>\n",
       "      <td>0.002661</td>\n",
       "      <td>-0.841528</td>\n",
       "      <td>67.519347</td>\n",
       "    </tr>\n",
       "    <tr>\n",
       "      <th>11</th>\n",
       "      <td>2006</td>\n",
       "      <td>2020</td>\n",
       "      <td>0.001687</td>\n",
       "      <td>-0.522492</td>\n",
       "      <td>41.413088</td>\n",
       "    </tr>\n",
       "    <tr>\n",
       "      <th>12</th>\n",
       "      <td>2007</td>\n",
       "      <td>2021</td>\n",
       "      <td>-0.000443</td>\n",
       "      <td>0.175413</td>\n",
       "      <td>-15.730162</td>\n",
       "    </tr>\n",
       "    <tr>\n",
       "      <th>13</th>\n",
       "      <td>2008</td>\n",
       "      <td>2022</td>\n",
       "      <td>-0.002165</td>\n",
       "      <td>0.746791</td>\n",
       "      <td>-63.131337</td>\n",
       "    </tr>\n",
       "    <tr>\n",
       "      <th>14</th>\n",
       "      <td>2009</td>\n",
       "      <td>2023</td>\n",
       "      <td>-0.000140</td>\n",
       "      <td>0.076879</td>\n",
       "      <td>-7.732102</td>\n",
       "    </tr>\n",
       "    <tr>\n",
       "      <th>15</th>\n",
       "      <td>2010</td>\n",
       "      <td>2024</td>\n",
       "      <td>0.000886</td>\n",
       "      <td>-0.262174</td>\n",
       "      <td>20.255031</td>\n",
       "    </tr>\n",
       "  </tbody>\n",
       "</table>\n",
       "</div>"
      ],
      "text/plain": [
       "    Start Year  End Year         a         b          c\n",
       "0         1995      2009 -0.000687  0.225885 -17.564145\n",
       "1         1996      2010 -0.000535  0.182672 -14.515733\n",
       "2         1997      2011 -0.000194  0.073431  -5.779090\n",
       "3         1998      2012 -0.000550  0.183795 -14.328302\n",
       "4         1999      2013 -0.002244  0.719706 -56.703626\n",
       "5         2000      2014 -0.001146  0.375343 -29.702108\n",
       "6         2001      2015  0.001370 -0.422256  33.469864\n",
       "7         2002      2016  0.003483 -1.095066  87.021875\n",
       "8         2003      2017  0.003168 -0.996325  79.280566\n",
       "9         2004      2018  0.001978 -0.615908  48.908073\n",
       "10        2005      2019  0.002661 -0.841528  67.519347\n",
       "11        2006      2020  0.001687 -0.522492  41.413088\n",
       "12        2007      2021 -0.000443  0.175413 -15.730162\n",
       "13        2008      2022 -0.002165  0.746791 -63.131337\n",
       "14        2009      2023 -0.000140  0.076879  -7.732102\n",
       "15        2010      2024  0.000886 -0.262174  20.255031"
      ]
     },
     "execution_count": 39,
     "metadata": {},
     "output_type": "execute_result"
    }
   ],
   "source": [
    "df_quadratic_regression_berkeley"
   ]
  },
  {
   "cell_type": "code",
   "execution_count": 46,
   "metadata": {},
   "outputs": [
    {
     "data": {
      "application/vnd.microsoft.datawrangler.viewer.v0+json": {
       "columns": [
        {
         "name": "index",
         "rawType": "int64",
         "type": "integer"
        },
        {
         "name": "Year",
         "rawType": "int64",
         "type": "integer"
        },
        {
         "name": "Anomaly(1951-1980 baseline)",
         "rawType": "float64",
         "type": "float"
        },
        {
         "name": "Anomaly(1850-1900 baseline)",
         "rawType": "float64",
         "type": "float"
        },
        {
         "name": "11yr_centered_avg",
         "rawType": "float64",
         "type": "float"
        },
        {
         "name": "21yr_centered_avg",
         "rawType": "float64",
         "type": "float"
        },
        {
         "name": "31yr_centered_avg",
         "rawType": "float64",
         "type": "float"
        }
       ],
       "conversionMethod": "pd.DataFrame",
       "ref": "1ded4dd9-be7f-43b7-a2ad-88f724be5426",
       "rows": [
        [
         "0",
         "1850",
         null,
         null,
         null,
         null,
         null
        ],
        [
         "1",
         "1851",
         null,
         null,
         null,
         null,
         null
        ],
        [
         "2",
         "1852",
         null,
         null,
         null,
         null,
         null
        ],
        [
         "3",
         "1853",
         null,
         null,
         null,
         null,
         null
        ],
        [
         "4",
         "1854",
         null,
         null,
         null,
         null,
         null
        ],
        [
         "5",
         "1855",
         null,
         null,
         null,
         null,
         null
        ],
        [
         "6",
         "1856",
         null,
         null,
         null,
         null,
         null
        ],
        [
         "7",
         "1857",
         null,
         null,
         null,
         null,
         null
        ],
        [
         "8",
         "1858",
         null,
         null,
         null,
         null,
         null
        ],
        [
         "9",
         "1859",
         null,
         null,
         null,
         null,
         null
        ],
        [
         "10",
         "1860",
         null,
         null,
         null,
         null,
         null
        ],
        [
         "11",
         "1861",
         null,
         null,
         null,
         null,
         null
        ],
        [
         "12",
         "1862",
         null,
         null,
         null,
         null,
         null
        ],
        [
         "13",
         "1863",
         null,
         null,
         null,
         null,
         null
        ],
        [
         "14",
         "1864",
         null,
         null,
         null,
         null,
         null
        ],
        [
         "15",
         "1865",
         null,
         null,
         null,
         null,
         null
        ],
        [
         "16",
         "1866",
         null,
         null,
         null,
         null,
         null
        ],
        [
         "17",
         "1867",
         null,
         null,
         null,
         null,
         null
        ],
        [
         "18",
         "1868",
         null,
         null,
         null,
         null,
         null
        ],
        [
         "19",
         "1869",
         null,
         null,
         null,
         null,
         null
        ],
        [
         "20",
         "1870",
         null,
         null,
         null,
         null,
         null
        ],
        [
         "21",
         "1871",
         null,
         null,
         null,
         null,
         null
        ],
        [
         "22",
         "1872",
         null,
         null,
         null,
         null,
         null
        ],
        [
         "23",
         "1873",
         null,
         null,
         null,
         null,
         null
        ],
        [
         "24",
         "1874",
         null,
         null,
         null,
         null,
         null
        ],
        [
         "25",
         "1875",
         null,
         null,
         null,
         null,
         null
        ],
        [
         "26",
         "1876",
         null,
         null,
         null,
         null,
         null
        ],
        [
         "27",
         "1877",
         null,
         null,
         null,
         null,
         null
        ],
        [
         "28",
         "1878",
         null,
         null,
         null,
         null,
         null
        ],
        [
         "29",
         "1879",
         null,
         null,
         null,
         null,
         null
        ],
        [
         "30",
         "1880",
         "-0.17",
         "0.07619047619047614",
         null,
         null,
         null
        ],
        [
         "31",
         "1881",
         "-0.09",
         "0.15619047619047616",
         null,
         null,
         null
        ],
        [
         "32",
         "1882",
         "-0.11",
         "0.13619047619047614",
         null,
         null,
         null
        ],
        [
         "33",
         "1883",
         "-0.17",
         "0.07619047619047614",
         null,
         null,
         null
        ],
        [
         "34",
         "1884",
         "-0.28",
         "-0.03380952380952387",
         null,
         null,
         null
        ],
        [
         "35",
         "1885",
         "-0.33",
         "-0.08380952380952386",
         "0.02346320346320342",
         null,
         null
        ],
        [
         "36",
         "1886",
         "-0.31",
         "-0.06380952380952384",
         "0.018917748917748875",
         null,
         null
        ],
        [
         "37",
         "1887",
         "-0.36",
         "-0.11380952380952383",
         "0.0025541125541125105",
         null,
         null
        ],
        [
         "38",
         "1888",
         "-0.17",
         "0.07619047619047614",
         "-0.01562770562770567",
         null,
         null
        ],
        [
         "39",
         "1889",
         "-0.11",
         "0.13619047619047614",
         "-0.027445887445887485",
         null,
         null
        ],
        [
         "40",
         "1890",
         "-0.35",
         "-0.10380952380952382",
         "-0.022900432900432942",
         "0.029999999999999957",
         null
        ],
        [
         "41",
         "1891",
         "-0.22",
         "0.026190476190476153",
         "-0.0029004329004329384",
         "0.030476190476190435",
         null
        ],
        [
         "42",
         "1892",
         "-0.27",
         "-0.023809523809523864",
         "0.015281385281385241",
         "0.021428571428571384",
         null
        ],
        [
         "43",
         "1893",
         "-0.31",
         "-0.06380952380952384",
         "0.02346320346320342",
         "0.009047619047619006",
         null
        ],
        [
         "44",
         "1894",
         "-0.3",
         "-0.053809523809523835",
         "0.022554112554112514",
         "-0.005238095238095279",
         null
        ],
        [
         "45",
         "1895",
         "-0.23",
         "0.016190476190476144",
         "0.024372294372294333",
         "-0.004285714285714325",
         "-0.01316436251920127"
        ],
        [
         "46",
         "1896",
         "-0.11",
         "0.13619047619047614",
         "0.0416450216450216",
         "0.0009523809523809136",
         "-0.021874039938556106"
        ],
        [
         "47",
         "1897",
         "-0.11",
         "0.13619047619047614",
         "0.03619047619047615",
         "-0.00238095238095242",
         "-0.030583717357910944"
        ],
        [
         "48",
         "1898",
         "-0.27",
         "-0.023809523809523864",
         "0.027099567099567057",
         "-0.005714285714285753",
         "-0.03832565284178191"
        ],
        [
         "49",
         "1899",
         "-0.18",
         "0.06619047619047616",
         "0.012554112554112517",
         "-0.020952380952380993",
         "-0.03800307219662062"
        ]
       ],
       "shape": {
        "columns": 6,
        "rows": 327
       }
      },
      "text/html": [
       "<div>\n",
       "<style scoped>\n",
       "    .dataframe tbody tr th:only-of-type {\n",
       "        vertical-align: middle;\n",
       "    }\n",
       "\n",
       "    .dataframe tbody tr th {\n",
       "        vertical-align: top;\n",
       "    }\n",
       "\n",
       "    .dataframe thead th {\n",
       "        text-align: right;\n",
       "    }\n",
       "</style>\n",
       "<table border=\"1\" class=\"dataframe\">\n",
       "  <thead>\n",
       "    <tr style=\"text-align: right;\">\n",
       "      <th></th>\n",
       "      <th>Year</th>\n",
       "      <th>Anomaly(1951-1980 baseline)</th>\n",
       "      <th>Anomaly(1850-1900 baseline)</th>\n",
       "      <th>11yr_centered_avg</th>\n",
       "      <th>21yr_centered_avg</th>\n",
       "      <th>31yr_centered_avg</th>\n",
       "    </tr>\n",
       "  </thead>\n",
       "  <tbody>\n",
       "    <tr>\n",
       "      <th>0</th>\n",
       "      <td>1850</td>\n",
       "      <td>NaN</td>\n",
       "      <td>NaN</td>\n",
       "      <td>NaN</td>\n",
       "      <td>NaN</td>\n",
       "      <td>NaN</td>\n",
       "    </tr>\n",
       "    <tr>\n",
       "      <th>1</th>\n",
       "      <td>1851</td>\n",
       "      <td>NaN</td>\n",
       "      <td>NaN</td>\n",
       "      <td>NaN</td>\n",
       "      <td>NaN</td>\n",
       "      <td>NaN</td>\n",
       "    </tr>\n",
       "    <tr>\n",
       "      <th>2</th>\n",
       "      <td>1852</td>\n",
       "      <td>NaN</td>\n",
       "      <td>NaN</td>\n",
       "      <td>NaN</td>\n",
       "      <td>NaN</td>\n",
       "      <td>NaN</td>\n",
       "    </tr>\n",
       "    <tr>\n",
       "      <th>3</th>\n",
       "      <td>1853</td>\n",
       "      <td>NaN</td>\n",
       "      <td>NaN</td>\n",
       "      <td>NaN</td>\n",
       "      <td>NaN</td>\n",
       "      <td>NaN</td>\n",
       "    </tr>\n",
       "    <tr>\n",
       "      <th>4</th>\n",
       "      <td>1854</td>\n",
       "      <td>NaN</td>\n",
       "      <td>NaN</td>\n",
       "      <td>NaN</td>\n",
       "      <td>NaN</td>\n",
       "      <td>NaN</td>\n",
       "    </tr>\n",
       "    <tr>\n",
       "      <th>...</th>\n",
       "      <td>...</td>\n",
       "      <td>...</td>\n",
       "      <td>...</td>\n",
       "      <td>...</td>\n",
       "      <td>...</td>\n",
       "      <td>...</td>\n",
       "    </tr>\n",
       "    <tr>\n",
       "      <th>322</th>\n",
       "      <td>2096</td>\n",
       "      <td>NaN</td>\n",
       "      <td>8.254906</td>\n",
       "      <td>NaN</td>\n",
       "      <td>NaN</td>\n",
       "      <td>NaN</td>\n",
       "    </tr>\n",
       "    <tr>\n",
       "      <th>323</th>\n",
       "      <td>2097</td>\n",
       "      <td>NaN</td>\n",
       "      <td>8.400687</td>\n",
       "      <td>NaN</td>\n",
       "      <td>NaN</td>\n",
       "      <td>NaN</td>\n",
       "    </tr>\n",
       "    <tr>\n",
       "      <th>324</th>\n",
       "      <td>2098</td>\n",
       "      <td>NaN</td>\n",
       "      <td>8.547853</td>\n",
       "      <td>NaN</td>\n",
       "      <td>NaN</td>\n",
       "      <td>NaN</td>\n",
       "    </tr>\n",
       "    <tr>\n",
       "      <th>325</th>\n",
       "      <td>2099</td>\n",
       "      <td>NaN</td>\n",
       "      <td>8.696404</td>\n",
       "      <td>NaN</td>\n",
       "      <td>NaN</td>\n",
       "      <td>NaN</td>\n",
       "    </tr>\n",
       "    <tr>\n",
       "      <th>326</th>\n",
       "      <td>2100</td>\n",
       "      <td>NaN</td>\n",
       "      <td>8.846340</td>\n",
       "      <td>NaN</td>\n",
       "      <td>NaN</td>\n",
       "      <td>NaN</td>\n",
       "    </tr>\n",
       "  </tbody>\n",
       "</table>\n",
       "<p>327 rows × 6 columns</p>\n",
       "</div>"
      ],
      "text/plain": [
       "     Year  Anomaly(1951-1980 baseline)  Anomaly(1850-1900 baseline)  \\\n",
       "0    1850                          NaN                          NaN   \n",
       "1    1851                          NaN                          NaN   \n",
       "2    1852                          NaN                          NaN   \n",
       "3    1853                          NaN                          NaN   \n",
       "4    1854                          NaN                          NaN   \n",
       "..    ...                          ...                          ...   \n",
       "322  2096                          NaN                     8.254906   \n",
       "323  2097                          NaN                     8.400687   \n",
       "324  2098                          NaN                     8.547853   \n",
       "325  2099                          NaN                     8.696404   \n",
       "326  2100                          NaN                     8.846340   \n",
       "\n",
       "     11yr_centered_avg  21yr_centered_avg  31yr_centered_avg  \n",
       "0                  NaN                NaN                NaN  \n",
       "1                  NaN                NaN                NaN  \n",
       "2                  NaN                NaN                NaN  \n",
       "3                  NaN                NaN                NaN  \n",
       "4                  NaN                NaN                NaN  \n",
       "..                 ...                ...                ...  \n",
       "322                NaN                NaN                NaN  \n",
       "323                NaN                NaN                NaN  \n",
       "324                NaN                NaN                NaN  \n",
       "325                NaN                NaN                NaN  \n",
       "326                NaN                NaN                NaN  \n",
       "\n",
       "[327 rows x 6 columns]"
      ]
     },
     "execution_count": 46,
     "metadata": {},
     "output_type": "execute_result"
    }
   ],
   "source": [
    "# Initialize lists to store the coefficients for the quadratic regression\n",
    "coefficients_nasa = []\n",
    "window_size = 15\n",
    "index0_year = 1849\n",
    "\n",
    "# Loop through the dataframe starting from 1994\n",
    "for start_year in range(1995, df_NASA['Year'].max() - window_size + 2):\n",
    "    end_year = start_year + window_size - 1\n",
    "    df_window_nasa = df_NASA[(df_NASA['Year'] >= start_year) & (df_NASA['Year'] <= end_year)]\n",
    "    # Perform quadratic regression\n",
    "    coeffs = np.polyfit(df_window_nasa.index + 1, df_window_nasa['Anomaly(1850-1900 baseline)'], 2)\n",
    "    \n",
    "    # Append the results to the list\n",
    "    coefficients_nasa.append(coeffs)\n",
    "\n",
    "# Create a new dataframe to store the results\n",
    "df_quadratic_regression_nasa = pd.DataFrame({\n",
    "    'Start Year': range(1995, df_NASA['Year'].max() - window_size + 2),\n",
    "    'End Year': range(1995 + window_size - 1, df_NASA['Year'].max() + 1),\n",
    "    'a': [coeff[0] for coeff in coefficients_nasa],\n",
    "    'b': [coeff[1] for coeff in coefficients_nasa],\n",
    "    'c': [coeff[2] for coeff in coefficients_nasa]\n",
    "})\n",
    "\n",
    "# Extract the coefficients for the year 2024\n",
    "coeffs_2024_nasa = df_quadratic_regression_nasa[df_quadratic_regression_nasa['End Year'] == 2024].iloc[0]\n",
    "a_2024_nasa = coeffs_2024_nasa['a']\n",
    "b_2024_nasa = coeffs_2024_nasa['b']\n",
    "c_2024_nasa = coeffs_2024_nasa['c']\n",
    "\n",
    "# Compute the anomaly values for the years 2024 to 2100 using the quadratic trend\n",
    "new_anomalies_nasa = []\n",
    "for year in range(2025, 2101):\n",
    "    anomaly = a_2024_nasa * (year - index0_year)**2 + b_2024_nasa * (year - index0_year) + c_2024_nasa\n",
    "    new_anomalies_nasa.append({'Year': year, 'Anomaly(1850-1900 baseline)': anomaly})\n",
    "\n",
    "# Convert the list to a DataFrame\n",
    "df_new_anomalies_nasa = pd.DataFrame(new_anomalies_nasa)\n",
    "\n",
    "# Append the new anomaly values to the existing df_NASA DataFrame\n",
    "df_NASA = pd.concat([df_NASA, df_new_anomalies_nasa], ignore_index=True)\n",
    "\n",
    "# Compute the 11-year centered average\n",
    "df_NASA['11yr_centered_avg'] = df_NASA['Anomaly(1850-1900 baseline)'].rolling(window=11, center=True).mean()\n",
    "\n",
    "# Compute the 21-year centered average\n",
    "df_NASA['21yr_centered_avg'] = df_NASA['Anomaly(1850-1900 baseline)'].rolling(window=21, center=True).mean()\n",
    "\n",
    "# Compute the 31-year centered average starting at 2010 onwards for df_NASA\n",
    "df_NASA['31yr_centered_avg'] = df_NASA['Anomaly(1850-1900 baseline)'].rolling(window=31, center=True).mean()\n",
    "\n",
    "# Display the updated DataFrame\n",
    "df_NASA"
   ]
  },
  {
   "cell_type": "code",
   "execution_count": 48,
   "metadata": {},
   "outputs": [
    {
     "data": {
      "text/plain": [
       "Start Year    2010.000000\n",
       "End Year      2024.000000\n",
       "a                0.000692\n",
       "b               -0.196991\n",
       "c               14.664851\n",
       "Name: 15, dtype: float64"
      ]
     },
     "execution_count": 48,
     "metadata": {},
     "output_type": "execute_result"
    }
   ],
   "source": [
    "coeffs_2024_nasa"
   ]
  },
  {
   "cell_type": "code",
   "execution_count": 43,
   "metadata": {
    "vscode": {
     "languageId": "ruby"
    }
   },
   "outputs": [
    {
     "name": "stdout",
     "output_type": "stream",
     "text": [
      "1.4450247791423685\n",
      "1.4677115923291666\n",
      "1.4893447532858417\n",
      "1.5099242620123867\n",
      "1.5294501185088087\n",
      "1.5479223227751042\n",
      "1.5653408748112732\n",
      "1.581705774617319\n",
      "1.597017022193242\n",
      "1.6112746175390384\n",
      "1.6244785606547083\n",
      "1.6366288515402552\n",
      "1.6477254901956826\n",
      "1.65776847662098\n",
      "1.6667578108161507\n",
      "1.6746934927811985\n",
      "1.6815755225161197\n",
      "1.687403900020918\n",
      "1.6921786252955897\n",
      "1.6958996983401349\n",
      "1.6985671191545606\n",
      "1.7001808877388562\n",
      "1.7007410040930289\n",
      "1.700247468217082\n",
      "1.6987002801110052\n",
      "1.6960994397748053\n",
      "1.6924449472084788\n",
      "1.6877368024120258\n",
      "1.6819750053854499\n",
      "1.6751595561287473\n",
      "1.6672904546419218\n",
      "1.6583677009249698\n",
      "1.6483912949778947\n",
      "1.6373612368007002\n",
      "1.625277526393372\n",
      "1.612140163755921\n",
      "1.5979491488883468\n",
      "1.5827044817906462\n",
      "1.5664061624628225\n",
      "1.5490541909048687\n",
      "1.5306485671167955\n",
      "1.5111892910985958\n",
      "1.4906763628502695\n",
      "1.4691097823718202\n",
      "1.4464895496632515\n",
      "1.4228156647245527\n",
      "1.3980881275557273\n",
      "1.372306938156779\n",
      "1.345472096527704\n",
      "1.3175836026685062\n",
      "1.2886414565791817\n",
      "1.2586456582597307\n",
      "1.2275962077101568\n",
      "1.1954931049304598\n",
      "1.1623363499206363\n",
      "1.1281259426806933\n",
      "1.0928618832106203\n",
      "1.0565441715104242\n",
      "1.019172807580098\n",
      "0.9807477914196525\n",
      "0.9412691230290804\n",
      "0.9007368024083817\n",
      "0.8591508295575565\n",
      "0.8165112044766119\n",
      "0.7728179271655371\n",
      "0.7280709976243394\n",
      "0.6822704158530257\n",
      "0.6354161818515784\n",
      "0.5875082956200082\n",
      "0.5385467571583114\n",
      "0.488531566466488\n",
      "0.43746272354454163\n",
      "0.38534022839246873\n",
      "0.33216408101027284\n",
      "0.2779342813979504\n",
      "0.22265082955550852\n",
      "0.1663137254829401\n"
     ]
    }
   ],
   "source": [
    "# Initialize lists to store the coefficients for the quadratic regression\n",
    "coefficients_dcent = []\n",
    "window_size = 15\n",
    "index0_year = 1849\n",
    "\n",
    "# Loop through the dataframe starting from 1994\n",
    "for start_year in range(1994, df_DCENT['Year'].max() - window_size + 2):\n",
    "    end_year = start_year + window_size - 1\n",
    "    df_window_dcent = df_DCENT[(df_DCENT['Year'] >= start_year) & (df_DCENT['Year'] <= end_year)]\n",
    "    # Perform quadratic regression\n",
    "    coeffs = np.polyfit(df_window_dcent.index + 1, df_window_dcent['Anomaly(1850-1900 baseline)'], 2)\n",
    "    \n",
    "    # Append the results to the list\n",
    "    coefficients_dcent.append(coeffs)\n",
    "\n",
    "# Create a new dataframe to store the results\n",
    "df_quadratic_regression_dcent = pd.DataFrame({\n",
    "    'Start Year': range(1994, df_DCENT['Year'].max() - window_size + 2),\n",
    "    'End Year': range(1994 + window_size - 1, df_DCENT['Year'].max() + 1),\n",
    "    'a': [coeff[0] for coeff in coefficients_dcent],\n",
    "    'b': [coeff[1] for coeff in coefficients_dcent],\n",
    "    'c': [coeff[2] for coeff in coefficients_dcent]\n",
    "})\n",
    "\n",
    "# Extract the coefficients for the year 2023\n",
    "coeffs_2023_dcent = df_quadratic_regression_dcent[df_quadratic_regression_dcent['End Year'] == 2023].iloc[0]\n",
    "a_2023_dcent = coeffs_2023_dcent['a']\n",
    "b_2023_dcent = coeffs_2023_dcent['b']\n",
    "c_2023_dcent = coeffs_2023_dcent['c']\n",
    "\n",
    "# Compute the anomaly values for the years 2024 to 2100 using the quadratic trend\n",
    "new_anomalies_dcent = []\n",
    "for year in range(2024, 2101):\n",
    "    anomaly = a_2023_dcent * (year - index0_year)**2 + b_2023_dcent * (year - index0_year) + c_2023_dcent\n",
    "    print(anomaly)\n",
    "    new_anomalies_dcent.append({'Year': year, 'Anomaly(1850-1900 baseline)': anomaly})\n",
    "\n",
    "# Convert the list to a DataFrame\n",
    "df_new_anomalies_dcent = pd.DataFrame(new_anomalies_dcent)\n",
    "\n",
    "# Append the new anomaly values to the existing df_DCENT DataFrame\n",
    "df_DCENT = pd.concat([df_DCENT, df_new_anomalies_dcent], ignore_index=True)\n",
    "\n",
    "# Compute the 11-year centered average\n",
    "df_DCENT['11yr_centered_avg'] = df_DCENT['Anomaly(1850-1900 baseline)'].rolling(window=11, center=True).mean()\n",
    "\n",
    "# Compute the 21-year centered average\n",
    "df_DCENT['21yr_centered_avg'] = df_DCENT['Anomaly(1850-1900 baseline)'].rolling(window=21, center=True).mean()\n",
    "\n",
    "# Compute the 31-year centered average starting at 2010 onwards for df_DCENT\n",
    "df_DCENT['31yr_centered_avg'] = df_DCENT['Anomaly(1850-1900 baseline)'].rolling(window=31, center=True).mean()\n",
    "\n",
    "# Display the updated DataFrame\n",
    "# df_DCENT"
   ]
  },
  {
   "cell_type": "code",
   "execution_count": 44,
   "metadata": {
    "vscode": {
     "languageId": "ruby"
    }
   },
   "outputs": [
    {
     "data": {
      "text/plain": [
       "Start Year    2009.000000\n",
       "End Year      2023.000000\n",
       "a               -0.000527\n",
       "b                0.207603\n",
       "c              -18.751412\n",
       "Name: 15, dtype: float64"
      ]
     },
     "execution_count": 44,
     "metadata": {},
     "output_type": "execute_result"
    }
   ],
   "source": [
    "coeffs_2023_dcent"
   ]
  },
  {
   "cell_type": "code",
   "execution_count": 36,
   "metadata": {},
   "outputs": [],
   "source": [
    "\n",
    "window_size = 15\n",
    "index0_year = 1849\n",
    "# Initialize lists to store the coefficients for the quadratic regression\n",
    "coefficients_dcent = []\n",
    "\n",
    "# Loop through the dataframe starting from 1994\n",
    "for start_year in range(1994, df_DCENT['Year'].max() - window_size + 2):\n",
    "    end_year = start_year + window_size - 1\n",
    "    df_window_dcent = df_DCENT[(df_DCENT['Year'] >= start_year) & (df_DCENT['Year'] <= end_year)]\n",
    "    # print(df_window_dcent)\n",
    "    # Perform quadratic regression\n",
    "    coeffs = np.polyfit(df_window_dcent.index + 1, df_window_dcent['Anomaly(1850-1900 baseline)'], 2)\n",
    "    \n",
    "    # Append the results to the list\n",
    "    coefficients_dcent.append(coeffs)\n",
    "\n",
    "# Create a new dataframe to store the results\n",
    "df_quadratic_regression_dcent = pd.DataFrame({\n",
    "    'Start Year': range(1994, df_DCENT['Year'].max() - window_size + 2),\n",
    "    'End Year': range(1994 + window_size - 1, df_DCENT['Year'].max() + 1),\n",
    "    'a': [coeff[0] for coeff in coefficients_dcent],\n",
    "    'b': [coeff[1] for coeff in coefficients_dcent],\n",
    "    'c': [coeff[2] for coeff in coefficients_dcent]\n",
    "})\n",
    "\n",
    "# Display the dataframe\n",
    "# df_quadratic_regression_dcent\n",
    "\n",
    "# Extract the coefficients for the year 2023\n",
    "coeffs_2023_dcent = df_quadratic_regression_dcent[df_quadratic_regression_dcent['End Year'] == 2023].iloc[0]\n",
    "a_2023_dcent = coeffs_2023_dcent['a']\n",
    "b_2023_dcent = coeffs_2023_dcent['b']\n",
    "c_2023_dcent = coeffs_2023_dcent['c']\n",
    "\n",
    "# Compute the anomaly values for the years 2024 to 2100 using the quadratic trend\n",
    "new_anomalies_dcent = []\n",
    "for year in range(2024, 2101):\n",
    "    anomaly = a_2023_dcent * (year - index0_year)**2 + b_2023_dcent * (year - index0_year) + c_2023_dcent\n",
    "    new_anomalies_dcent.append({'Year': year, 'Anomaly(1850-1900 baseline)': anomaly})\n",
    "\n",
    "# Convert the list to a DataFrame\n",
    "df_new_anomalies_dcent = pd.DataFrame(new_anomalies_dcent)\n",
    "\n",
    "# Append the new anomaly values to the existing df_DCENT DataFrame\n",
    "df_DCENT = pd.concat([df_DCENT, df_new_anomalies_dcent], ignore_index=True)\n",
    "\n",
    "# # Compute the 11-year centered average\n",
    "# df_DCENT['11yr_centered_avg'] = df_DCENT['Anomaly(1850-1900 baseline)'].rolling(window=11, center=True).mean()\n",
    "\n",
    "# # Compute the 21-year centered average\n",
    "# df_DCENT['21yr_centered_avg'] = df_DCENT['Anomaly(1850-1900 baseline)'].rolling(window=21, center=True).mean()\n",
    "\n",
    "# # Compute the 31-year centered average starting at 2010 onwards for df_DCENT\n",
    "# df_DCENT['31yr_centered_avg'] = df_DCENT['Anomaly(1850-1900 baseline)'].rolling(window=31, center=True).mean()\n",
    "\n",
    "# Display the updated DataFrame\n",
    "df_DCENT.to_excel('/data/keeling/a/sudhansu/i/GlobalTempChange/test.xlsx')"
   ]
  },
  {
   "cell_type": "code",
   "execution_count": 37,
   "metadata": {},
   "outputs": [
    {
     "data": {
      "application/vnd.microsoft.datawrangler.viewer.v0+json": {
       "columns": [
        {
         "name": "index",
         "rawType": "int64",
         "type": "integer"
        },
        {
         "name": "Start Year",
         "rawType": "int64",
         "type": "integer"
        },
        {
         "name": "End Year",
         "rawType": "int64",
         "type": "integer"
        },
        {
         "name": "a",
         "rawType": "float64",
         "type": "float"
        },
        {
         "name": "b",
         "rawType": "float64",
         "type": "float"
        },
        {
         "name": "c",
         "rawType": "float64",
         "type": "float"
        }
       ],
       "conversionMethod": "pd.DataFrame",
       "ref": "7fe6ea02-55bd-44e9-ab00-463d9222c6e7",
       "rows": [
        [
         "0",
         "1994",
         "2008",
         "-0.0013429217840976043",
         "0.42296250807995645",
         "-32.31393708251016"
        ],
        [
         "1",
         "1995",
         "2009",
         "-0.0010447640594702851",
         "0.3325906593407648",
         "-25.469555376004678"
        ],
        [
         "2",
         "1996",
         "2010",
         "-0.001061732385260985",
         "0.34237071751752696",
         "-26.57079487177574"
        ],
        [
         "3",
         "1997",
         "2011",
         "-0.00048723335488047234",
         "0.1592209114415183",
         "-11.993933527258537"
        ],
        [
         "4",
         "1998",
         "2012",
         "-0.0006367162249482306",
         "0.2060126050409892",
         "-15.653856927306105"
        ],
        [
         "5",
         "1999",
         "2013",
         "-0.0019311570782158203",
         "0.6180976082740517",
         "-48.42708737340867"
        ],
        [
         "6",
         "2000",
         "2014",
         "-0.0006286360698128178",
         "0.20907756948942124",
         "-16.331485886669185"
        ],
        [
         "7",
         "2001",
         "2015",
         "0.002247091144152028",
         "-0.7020392695546336",
         "55.80401831507086"
        ],
        [
         "8",
         "2002",
         "2016",
         "0.0039318034906274234",
         "-1.2395342598579209",
         "98.65634992459599"
        ],
        [
         "9",
         "2003",
         "2017",
         "0.0038251454427919896",
         "-1.2087682611504467",
         "96.4671236802276"
        ],
        [
         "10",
         "2004",
         "2018",
         "0.0024377828054299574",
         "-0.7656630575307353",
         "61.10650280112301"
        ],
        [
         "11",
         "2005",
         "2019",
         "0.0026914996767933336",
         "-0.8506788946346253",
         "68.21906162463735"
        ],
        [
         "12",
         "2006",
         "2020",
         "0.001743697478991326",
         "-0.5407184873948723",
         "42.8878935574162"
        ],
        [
         "13",
         "2007",
         "2021",
         "-0.0004662249515189901",
         "0.18453280542983835",
         "-16.590471019174778"
        ],
        [
         "14",
         "2008",
         "2022",
         "-0.0021832579185522305",
         "0.7541273432450553",
         "-63.809431588025255"
        ],
        [
         "15",
         "2009",
         "2023",
         "-0.0005268261150624409",
         "0.20760277957371254",
         "-18.75141187247007"
        ],
        [
         "16",
         "2010",
         "2024",
         "-0.000968002585649354",
         "0.35698513251444436",
         "-31.3903236371386"
        ],
        [
         "17",
         "2011",
         "2025",
         "-0.0020307565333837455",
         "0.7195547153480671",
         "-62.2975791409198"
        ],
        [
         "18",
         "2012",
         "2026",
         "-0.0013897088072973487",
         "0.5020190016839751",
         "-43.84982068462314"
        ],
        [
         "19",
         "2013",
         "2027",
         "-0.0006313085275890209",
         "0.24208146370665418",
         "-21.585736513771696"
        ],
        [
         "20",
         "2014",
         "2028",
         "0.00029672267445040104",
         "-0.07911704086421145",
         "6.1940665531652135"
        ],
        [
         "21",
         "2015",
         "2029",
         "0.0012523006505056511",
         "-0.41306497303876666",
         "35.35510856664657"
        ],
        [
         "22",
         "2016",
         "2030",
         "0.0008318874364911004",
         "-0.26794585828029965",
         "22.836971393636883"
        ],
        [
         "23",
         "2017",
         "2031",
         "-0.000351900627987329",
         "0.14749198126936952",
         "-13.597208239283587"
        ],
        [
         "24",
         "2018",
         "2032",
         "-0.0009789808370285003",
         "0.36932489485933456",
         "-33.2077281294922"
        ],
        [
         "25",
         "2019",
         "2033",
         "-0.0004937111896620359",
         "0.19661291410921786",
         "-17.84666712887197"
        ],
        [
         "26",
         "2020",
         "2034",
         "-0.0010704949400576896",
         "0.40322795136159356",
         "-36.34216974482368"
        ],
        [
         "27",
         "2021",
         "2035",
         "-0.0017529468801104242",
         "0.6499043528274046",
         "-58.621911985588156"
        ],
        [
         "28",
         "2022",
         "2036",
         "-0.0008921869652837262",
         "0.33939529069539126",
         "-30.62894637564553"
        ],
        [
         "29",
         "2023",
         "2037",
         "0.0004816081409930446",
         "-0.1608790975889625",
         "14.896812262482221"
        ],
        [
         "30",
         "2024",
         "2038",
         "-0.0005268261150626728",
         "0.20760277957379739",
         "-18.75141187247785"
        ],
        [
         "31",
         "2025",
         "2039",
         "-0.0005268261150620674",
         "0.20760277957357545",
         "-18.751411872457485"
        ],
        [
         "32",
         "2026",
         "2040",
         "-0.0005268261150623852",
         "0.20760277957369183",
         "-18.751411872468154"
        ],
        [
         "33",
         "2027",
         "2041",
         "-0.0005268261150624767",
         "0.20760277957372605",
         "-18.751411872471344"
        ],
        [
         "34",
         "2028",
         "2042",
         "-0.0005268261150626153",
         "0.20760277957377798",
         "-18.751411872476204"
        ],
        [
         "35",
         "2029",
         "2043",
         "-0.0005268261150626119",
         "0.20760277957377685",
         "-18.751411872476137"
        ],
        [
         "36",
         "2030",
         "2044",
         "-0.0005268261150625119",
         "0.20760277957373938",
         "-18.751411872472588"
        ],
        [
         "37",
         "2031",
         "2045",
         "-0.0005268261150622702",
         "0.20760277957364726",
         "-18.751411872463848"
        ],
        [
         "38",
         "2032",
         "2046",
         "-0.0005268261150628113",
         "0.20760277957385412",
         "-18.7514118724836"
        ],
        [
         "39",
         "2033",
         "2047",
         "-0.0005268261150623289",
         "0.20760277957366902",
         "-18.75141187246585"
        ],
        [
         "40",
         "2034",
         "2048",
         "-0.0005268261150625573",
         "0.2076027795737576",
         "-18.75141187247443"
        ],
        [
         "41",
         "2035",
         "2049",
         "-0.0005268261150625646",
         "0.20760277957376091",
         "-18.75141187247481"
        ],
        [
         "42",
         "2036",
         "2050",
         "-0.0005268261150621887",
         "0.20760277957361453",
         "-18.75141187246057"
        ],
        [
         "43",
         "2037",
         "2051",
         "-0.0005268261150620808",
         "0.20760277957357104",
         "-18.75141187245616"
        ],
        [
         "44",
         "2038",
         "2052",
         "-0.0005268261150624181",
         "0.2076027795737037",
         "-18.751411872469216"
        ],
        [
         "45",
         "2039",
         "2053",
         "-0.0005268261150623165",
         "0.20760277957366338",
         "-18.751411872465187"
        ],
        [
         "46",
         "2040",
         "2054",
         "-0.0005268261150621696",
         "0.20760277957360448",
         "-18.751411872459293"
        ],
        [
         "47",
         "2041",
         "2055",
         "-0.0005268261150625183",
         "0.20760277957374368",
         "-18.75141187247321"
        ],
        [
         "48",
         "2042",
         "2056",
         "-0.000526826115062294",
         "0.2076027795736532",
         "-18.751411872464082"
        ],
        [
         "49",
         "2043",
         "2057",
         "-0.0005268261150622773",
         "0.20760277957364603",
         "-18.75141187246332"
        ]
       ],
       "shape": {
        "columns": 5,
        "rows": 93
       }
      },
      "text/html": [
       "<div>\n",
       "<style scoped>\n",
       "    .dataframe tbody tr th:only-of-type {\n",
       "        vertical-align: middle;\n",
       "    }\n",
       "\n",
       "    .dataframe tbody tr th {\n",
       "        vertical-align: top;\n",
       "    }\n",
       "\n",
       "    .dataframe thead th {\n",
       "        text-align: right;\n",
       "    }\n",
       "</style>\n",
       "<table border=\"1\" class=\"dataframe\">\n",
       "  <thead>\n",
       "    <tr style=\"text-align: right;\">\n",
       "      <th></th>\n",
       "      <th>Start Year</th>\n",
       "      <th>End Year</th>\n",
       "      <th>a</th>\n",
       "      <th>b</th>\n",
       "      <th>c</th>\n",
       "    </tr>\n",
       "  </thead>\n",
       "  <tbody>\n",
       "    <tr>\n",
       "      <th>0</th>\n",
       "      <td>1994</td>\n",
       "      <td>2008</td>\n",
       "      <td>-0.001343</td>\n",
       "      <td>0.422963</td>\n",
       "      <td>-32.313937</td>\n",
       "    </tr>\n",
       "    <tr>\n",
       "      <th>1</th>\n",
       "      <td>1995</td>\n",
       "      <td>2009</td>\n",
       "      <td>-0.001045</td>\n",
       "      <td>0.332591</td>\n",
       "      <td>-25.469555</td>\n",
       "    </tr>\n",
       "    <tr>\n",
       "      <th>2</th>\n",
       "      <td>1996</td>\n",
       "      <td>2010</td>\n",
       "      <td>-0.001062</td>\n",
       "      <td>0.342371</td>\n",
       "      <td>-26.570795</td>\n",
       "    </tr>\n",
       "    <tr>\n",
       "      <th>3</th>\n",
       "      <td>1997</td>\n",
       "      <td>2011</td>\n",
       "      <td>-0.000487</td>\n",
       "      <td>0.159221</td>\n",
       "      <td>-11.993934</td>\n",
       "    </tr>\n",
       "    <tr>\n",
       "      <th>4</th>\n",
       "      <td>1998</td>\n",
       "      <td>2012</td>\n",
       "      <td>-0.000637</td>\n",
       "      <td>0.206013</td>\n",
       "      <td>-15.653857</td>\n",
       "    </tr>\n",
       "    <tr>\n",
       "      <th>...</th>\n",
       "      <td>...</td>\n",
       "      <td>...</td>\n",
       "      <td>...</td>\n",
       "      <td>...</td>\n",
       "      <td>...</td>\n",
       "    </tr>\n",
       "    <tr>\n",
       "      <th>88</th>\n",
       "      <td>2082</td>\n",
       "      <td>2096</td>\n",
       "      <td>-0.000527</td>\n",
       "      <td>0.207603</td>\n",
       "      <td>-18.751412</td>\n",
       "    </tr>\n",
       "    <tr>\n",
       "      <th>89</th>\n",
       "      <td>2083</td>\n",
       "      <td>2097</td>\n",
       "      <td>-0.000527</td>\n",
       "      <td>0.207603</td>\n",
       "      <td>-18.751412</td>\n",
       "    </tr>\n",
       "    <tr>\n",
       "      <th>90</th>\n",
       "      <td>2084</td>\n",
       "      <td>2098</td>\n",
       "      <td>-0.000527</td>\n",
       "      <td>0.207603</td>\n",
       "      <td>-18.751412</td>\n",
       "    </tr>\n",
       "    <tr>\n",
       "      <th>91</th>\n",
       "      <td>2085</td>\n",
       "      <td>2099</td>\n",
       "      <td>-0.000527</td>\n",
       "      <td>0.207603</td>\n",
       "      <td>-18.751412</td>\n",
       "    </tr>\n",
       "    <tr>\n",
       "      <th>92</th>\n",
       "      <td>2086</td>\n",
       "      <td>2100</td>\n",
       "      <td>-0.000527</td>\n",
       "      <td>0.207603</td>\n",
       "      <td>-18.751412</td>\n",
       "    </tr>\n",
       "  </tbody>\n",
       "</table>\n",
       "<p>93 rows × 5 columns</p>\n",
       "</div>"
      ],
      "text/plain": [
       "    Start Year  End Year         a         b          c\n",
       "0         1994      2008 -0.001343  0.422963 -32.313937\n",
       "1         1995      2009 -0.001045  0.332591 -25.469555\n",
       "2         1996      2010 -0.001062  0.342371 -26.570795\n",
       "3         1997      2011 -0.000487  0.159221 -11.993934\n",
       "4         1998      2012 -0.000637  0.206013 -15.653857\n",
       "..         ...       ...       ...       ...        ...\n",
       "88        2082      2096 -0.000527  0.207603 -18.751412\n",
       "89        2083      2097 -0.000527  0.207603 -18.751412\n",
       "90        2084      2098 -0.000527  0.207603 -18.751412\n",
       "91        2085      2099 -0.000527  0.207603 -18.751412\n",
       "92        2086      2100 -0.000527  0.207603 -18.751412\n",
       "\n",
       "[93 rows x 5 columns]"
      ]
     },
     "execution_count": 37,
     "metadata": {},
     "output_type": "execute_result"
    }
   ],
   "source": [
    "df_quadratic_regression_dcent"
   ]
  },
  {
   "cell_type": "code",
   "execution_count": 31,
   "metadata": {},
   "outputs": [
    {
     "data": {
      "text/plain": [
       "2100"
      ]
     },
     "execution_count": 31,
     "metadata": {},
     "output_type": "execute_result"
    }
   ],
   "source": [
    "df_DCENT['Year'].max()"
   ]
  },
  {
   "cell_type": "code",
   "execution_count": 16,
   "metadata": {},
   "outputs": [],
   "source": [
    "file_name = f'GlobalTemperature_polyfit_15yrTrend.xlsx'\n",
    "with pd.ExcelWriter(file_name) as writer:\n",
    "    df_noaa.to_excel(writer, sheet_name='NOAA', index=False)\n",
    "    df_crut.to_excel(writer, sheet_name='HadCRUT', index=False)\n",
    "    df_berkeley.to_excel(writer, sheet_name='Berkeley-Earth-Temperature', index=False)\n",
    "    df_NASA.to_excel(writer, sheet_name='NASA', index=False)\n",
    "    df_DCENT.to_excel(writer, sheet_name='DCENT_GlobalTemperature', index=False)"
   ]
  }
 ],
 "metadata": {
  "kernelspec": {
   "display_name": "g_env",
   "language": "python",
   "name": "python3"
  },
  "language_info": {
   "codemirror_mode": {
    "name": "ipython",
    "version": 3
   },
   "file_extension": ".py",
   "mimetype": "text/x-python",
   "name": "python",
   "nbconvert_exporter": "python",
   "pygments_lexer": "ipython3",
   "version": "3.12.2"
  }
 },
 "nbformat": 4,
 "nbformat_minor": 2
}
